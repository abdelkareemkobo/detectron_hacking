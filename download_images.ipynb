{
 "cells": [
  {
   "cell_type": "code",
   "execution_count": 1,
   "metadata": {},
   "outputs": [
    {
     "name": "stdout",
     "output_type": "stream",
     "text": [
      "Collecting simple_image_download\n",
      "  Downloading simple_image_download-0.5-py3-none-any.whl (7.0 kB)\n",
      "Requirement already satisfied: requests in /home/kareem/mambaforge/lib/python3.10/site-packages (from simple_image_download) (2.28.2)\n",
      "  Downloading simple_image_download-0.4-py3-none-any.whl (4.9 kB)\n",
      "  Downloading simple_image_download-0.2-py3-none-any.whl (3.8 kB)\n",
      "Requirement already satisfied: idna<4,>=2.5 in /home/kareem/mambaforge/lib/python3.10/site-packages (from requests->simple_image_download) (3.4)\n",
      "Requirement already satisfied: charset-normalizer<4,>=2 in /home/kareem/mambaforge/lib/python3.10/site-packages (from requests->simple_image_download) (2.1.1)\n",
      "Requirement already satisfied: urllib3<1.27,>=1.21.1 in /home/kareem/mambaforge/lib/python3.10/site-packages (from requests->simple_image_download) (1.26.14)\n",
      "Requirement already satisfied: certifi>=2017.4.17 in /home/kareem/mambaforge/lib/python3.10/site-packages (from requests->simple_image_download) (2022.12.7)\n",
      "Installing collected packages: simple_image_download\n",
      "Successfully installed simple_image_download-0.2\n"
     ]
    }
   ],
   "source": [
    "!pip install simple_image_download "
   ]
  },
  {
   "cell_type": "code",
   "execution_count": 4,
   "metadata": {},
   "outputs": [],
   "source": [
    "import os \n",
    "project_folder = \"images\"\n",
    "os.makedirs(project_folder, exist_ok=True)\n"
   ]
  },
  {
   "cell_type": "code",
   "execution_count": 9,
   "metadata": {},
   "outputs": [
    {
     "data": {
      "text/plain": [
       "'/home/kareem/Desktop/Alex/medsoft/detectron_hacking'"
      ]
     },
     "execution_count": 9,
     "metadata": {},
     "output_type": "execute_result"
    }
   ],
   "source": [
    "pwd()"
   ]
  },
  {
   "cell_type": "code",
   "execution_count": 11,
   "metadata": {},
   "outputs": [],
   "source": [
    "from simple_image_download.simple_image_download import simple_image_download as Downloader \n",
    "from tqdm import tqdm \n",
    "def _download(keyword,limit):\n",
    "    downloader = Downloader()\n",
    "    #download images \n",
    "    downloader.download(keywords=keyword,limit=limit)\n",
    "    #return the urls \n",
    "    urls = downloader.urls(keywords=keyword,limit=limit)\n",
    "    return urls\n",
    "def download(keywords,limit):\n",
    "    for keyword in tqdm(keywords):\n",
    "        \n",
    "        urls = _download(keyword,limit)\n",
    "        with open(f\"simple_images/{keyword}.txt\",\"w\") as f:\n",
    "            f.writelines(\"\\n\".join(urls))"
   ]
  },
  {
   "attachments": {},
   "cell_type": "markdown",
   "metadata": {},
   "source": [
    "This code defines a function called \"download\" that downloads images from the internet based on given keywords and limits. It uses a Python package called \"simple_image_download\" and the \"tqdm\" library to show a progress bar while downloading. \n",
    "\n",
    "The \"_download\" function takes two parameters - the \"keyword\" which is the search term for the images, and the \"limit\" which is the maximum number of images to be downloaded. It initializes an instance of the \"simple_image_download\" class and calls its \"download\" method to download the images. It then calls the \"urls\" method of the class to retrieve the URLs of the downloaded images and returns them.\n",
    "\n",
    "The \"download\" function takes two parameters - the \"keywords\" which is a list of search terms, and the \"limit\" which is the maximum number of images to be downloaded for each keyword. It loops through each keyword, calls the \"_download\" function with that keyword and limit, and then writes the URLs of the downloaded images to a text file named after the keyword in a folder called \"simple_images\". It uses the \"tqdm\" library to show a progress bar for each keyword being downloaded."
   ]
  },
  {
   "cell_type": "code",
   "execution_count": 12,
   "metadata": {},
   "outputs": [
    {
     "name": "stderr",
     "output_type": "stream",
     "text": [
      "100%|██████████| 2/2 [00:35<00:00, 17.93s/it]\n"
     ]
    }
   ],
   "source": [
    "download(keywords=[\"brain tumors x-ray\",\"heart tumors x-ray\"],limit=10)"
   ]
  },
  {
   "cell_type": "code",
   "execution_count": null,
   "metadata": {},
   "outputs": [],
   "source": []
  }
 ],
 "metadata": {
  "kernelspec": {
   "display_name": "base",
   "language": "python",
   "name": "python3"
  },
  "language_info": {
   "codemirror_mode": {
    "name": "ipython",
    "version": 3
   },
   "file_extension": ".py",
   "mimetype": "text/x-python",
   "name": "python",
   "nbconvert_exporter": "python",
   "pygments_lexer": "ipython3",
   "version": "3.10.9"
  },
  "orig_nbformat": 4
 },
 "nbformat": 4,
 "nbformat_minor": 2
}
