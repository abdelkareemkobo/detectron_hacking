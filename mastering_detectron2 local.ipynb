{
  "cells": [
    {
      "cell_type": "markdown",
      "metadata": {
        "id": "SaA2X5ec8n8A"
      },
      "source": [
        "# Installation"
      ]
    },
    {
      "cell_type": "markdown",
      "metadata": {
        "id": "MB2yKCxA9Vej"
      },
      "source": [
        "Should change runtime to have GPU Hardware accelerator: Runtime > Change runtime > Hardware accelerator: GPU."
      ]
    },
    {
      "cell_type": "code",
      "execution_count": 1,
      "metadata": {
        "colab": {
          "base_uri": "https://localhost:8080/"
        },
        "id": "tJiG5qX9EfA2",
        "outputId": "eee4d65a-c381-422a-e9b2-27c8acc54eff"
      },
      "outputs": [
        {
          "name": "stdout",
          "output_type": "stream",
          "text": [
            "Python 3.10.9\n"
          ]
        }
      ],
      "source": [
        "!python --version"
      ]
    },
    {
      "cell_type": "code",
      "execution_count": 2,
      "metadata": {
        "colab": {
          "base_uri": "https://localhost:8080/"
        },
        "id": "WOH4CMlj9P_P",
        "outputId": "586c401e-7eff-4cb0-e9a4-5f51078a406b"
      },
      "outputs": [
        {
          "name": "stdout",
          "output_type": "stream",
          "text": [
            "1.13.1\n",
            "True\n"
          ]
        },
        {
          "data": {
            "text/plain": [
              "tensor([0.], device='cuda:0')"
            ]
          },
          "execution_count": 2,
          "metadata": {},
          "output_type": "execute_result"
        }
      ],
      "source": [
        "import torch\n",
        "print(torch.__version__)\n",
        "print(torch.cuda.is_available())\n",
        "torch.zeros(1).cuda()"
      ]
    },
    {
      "cell_type": "code",
      "execution_count": 9,
      "metadata": {
        "colab": {
          "base_uri": "https://localhost:8080/"
        },
        "id": "WgBtpegxhW4c",
        "outputId": "cb53781b-6873-4aa6-833b-4fd441d32bf5"
      },
      "outputs": [
        {
          "name": "stdout",
          "output_type": "stream",
          "text": [
            "Collecting git+https://github.com/facebookresearch/detectron2.git\n",
            "  Cloning https://github.com/facebookresearch/detectron2.git to /tmp/pip-req-build-gzl9jdbv\n",
            "  Running command git clone --filter=blob:none --quiet https://github.com/facebookresearch/detectron2.git /tmp/pip-req-build-gzl9jdbv\n",
            "  Resolved https://github.com/facebookresearch/detectron2.git to commit ecb786ccd26de4086a6fede437e7d728199470e2\n",
            "  Preparing metadata (setup.py) ... \u001b[?25ldone\n",
            "\u001b[?25hRequirement already satisfied: Pillow>=7.1 in /home/kareem/mambaforge/lib/python3.10/site-packages (from detectron2==0.6) (9.4.0)\n",
            "Requirement already satisfied: matplotlib in /home/kareem/mambaforge/lib/python3.10/site-packages (from detectron2==0.6) (3.7.1)\n",
            "Requirement already satisfied: pycocotools>=2.0.2 in /home/kareem/.local/lib/python3.10/site-packages (from detectron2==0.6) (2.0.6)\n",
            "Requirement already satisfied: termcolor>=1.1 in /home/kareem/mambaforge/lib/python3.10/site-packages (from detectron2==0.6) (2.3.0)\n",
            "Requirement already satisfied: yacs>=0.1.8 in /home/kareem/mambaforge/lib/python3.10/site-packages (from detectron2==0.6) (0.1.8)\n",
            "Requirement already satisfied: tabulate in /home/kareem/mambaforge/lib/python3.10/site-packages (from detectron2==0.6) (0.9.0)\n",
            "Requirement already satisfied: cloudpickle in /home/kareem/mambaforge/lib/python3.10/site-packages (from detectron2==0.6) (2.2.1)\n",
            "Requirement already satisfied: tqdm>4.29.0 in /home/kareem/mambaforge/lib/python3.10/site-packages (from detectron2==0.6) (4.64.1)\n",
            "Requirement already satisfied: tensorboard in /home/kareem/.local/lib/python3.10/site-packages (from detectron2==0.6) (2.12.2)\n",
            "Requirement already satisfied: fvcore<0.1.6,>=0.1.5 in /home/kareem/.local/lib/python3.10/site-packages (from detectron2==0.6) (0.1.5.post20221221)\n",
            "Requirement already satisfied: iopath<0.1.10,>=0.1.7 in /home/kareem/.local/lib/python3.10/site-packages (from detectron2==0.6) (0.1.9)\n",
            "Requirement already satisfied: omegaconf>=2.1 in /home/kareem/.local/lib/python3.10/site-packages (from detectron2==0.6) (2.3.0)\n",
            "Requirement already satisfied: hydra-core>=1.1 in /home/kareem/.local/lib/python3.10/site-packages (from detectron2==0.6) (1.3.2)\n",
            "Requirement already satisfied: black in /home/kareem/.local/lib/python3.10/site-packages (from detectron2==0.6) (23.3.0)\n",
            "Requirement already satisfied: packaging in /home/kareem/mambaforge/lib/python3.10/site-packages (from detectron2==0.6) (23.1)\n",
            "Requirement already satisfied: numpy in /home/kareem/mambaforge/lib/python3.10/site-packages (from fvcore<0.1.6,>=0.1.5->detectron2==0.6) (1.24.3)\n",
            "Requirement already satisfied: pyyaml>=5.1 in /home/kareem/mambaforge/lib/python3.10/site-packages (from fvcore<0.1.6,>=0.1.5->detectron2==0.6) (6.0)\n",
            "Requirement already satisfied: antlr4-python3-runtime==4.9.* in /home/kareem/.local/lib/python3.10/site-packages (from hydra-core>=1.1->detectron2==0.6) (4.9.3)\n",
            "Requirement already satisfied: portalocker in /home/kareem/mambaforge/lib/python3.10/site-packages (from iopath<0.1.10,>=0.1.7->detectron2==0.6) (2.7.0)\n",
            "Requirement already satisfied: fonttools>=4.22.0 in /home/kareem/mambaforge/lib/python3.10/site-packages (from matplotlib->detectron2==0.6) (4.39.3)\n",
            "Requirement already satisfied: cycler>=0.10 in /home/kareem/mambaforge/lib/python3.10/site-packages (from matplotlib->detectron2==0.6) (0.11.0)\n",
            "Requirement already satisfied: contourpy>=1.0.1 in /home/kareem/mambaforge/lib/python3.10/site-packages (from matplotlib->detectron2==0.6) (1.0.7)\n",
            "Requirement already satisfied: kiwisolver>=1.0.1 in /home/kareem/mambaforge/lib/python3.10/site-packages (from matplotlib->detectron2==0.6) (1.4.4)\n",
            "Requirement already satisfied: python-dateutil>=2.7 in /home/kareem/mambaforge/lib/python3.10/site-packages (from matplotlib->detectron2==0.6) (2.8.2)\n",
            "Requirement already satisfied: pyparsing>=2.3.1 in /home/kareem/mambaforge/lib/python3.10/site-packages (from matplotlib->detectron2==0.6) (3.0.9)\n",
            "Requirement already satisfied: click>=8.0.0 in /home/kareem/mambaforge/lib/python3.10/site-packages (from black->detectron2==0.6) (8.1.3)\n",
            "Requirement already satisfied: tomli>=1.1.0 in /home/kareem/.local/lib/python3.10/site-packages (from black->detectron2==0.6) (2.0.1)\n",
            "Requirement already satisfied: platformdirs>=2 in /home/kareem/mambaforge/lib/python3.10/site-packages (from black->detectron2==0.6) (3.2.0)\n",
            "Requirement already satisfied: mypy-extensions>=0.4.3 in /home/kareem/.local/lib/python3.10/site-packages (from black->detectron2==0.6) (1.0.0)\n",
            "Requirement already satisfied: pathspec>=0.9.0 in /home/kareem/.local/lib/python3.10/site-packages (from black->detectron2==0.6) (0.11.1)\n",
            "Requirement already satisfied: google-auth<3,>=1.6.3 in /home/kareem/.local/lib/python3.10/site-packages (from tensorboard->detectron2==0.6) (2.17.3)\n",
            "Requirement already satisfied: google-auth-oauthlib<1.1,>=0.5 in /home/kareem/.local/lib/python3.10/site-packages (from tensorboard->detectron2==0.6) (1.0.0)\n",
            "Requirement already satisfied: protobuf>=3.19.6 in /home/kareem/.local/lib/python3.10/site-packages (from tensorboard->detectron2==0.6) (4.22.3)\n",
            "Requirement already satisfied: werkzeug>=1.0.1 in /home/kareem/.local/lib/python3.10/site-packages (from tensorboard->detectron2==0.6) (2.2.3)\n",
            "Requirement already satisfied: markdown>=2.6.8 in /home/kareem/.local/lib/python3.10/site-packages (from tensorboard->detectron2==0.6) (3.4.3)\n",
            "Requirement already satisfied: setuptools>=41.0.0 in /home/kareem/mambaforge/lib/python3.10/site-packages (from tensorboard->detectron2==0.6) (65.6.3)\n",
            "Requirement already satisfied: tensorboard-plugin-wit>=1.6.0 in /home/kareem/.local/lib/python3.10/site-packages (from tensorboard->detectron2==0.6) (1.8.1)\n",
            "Requirement already satisfied: requests<3,>=2.21.0 in /home/kareem/mambaforge/lib/python3.10/site-packages (from tensorboard->detectron2==0.6) (2.28.2)\n",
            "Requirement already satisfied: tensorboard-data-server<0.8.0,>=0.7.0 in /home/kareem/.local/lib/python3.10/site-packages (from tensorboard->detectron2==0.6) (0.7.0)\n",
            "Requirement already satisfied: absl-py>=0.4 in /home/kareem/.local/lib/python3.10/site-packages (from tensorboard->detectron2==0.6) (1.4.0)\n",
            "Requirement already satisfied: grpcio>=1.48.2 in /home/kareem/.local/lib/python3.10/site-packages (from tensorboard->detectron2==0.6) (1.54.0)\n",
            "Requirement already satisfied: wheel>=0.26 in /home/kareem/mambaforge/lib/python3.10/site-packages (from tensorboard->detectron2==0.6) (0.38.4)\n",
            "Requirement already satisfied: six>=1.9.0 in /home/kareem/mambaforge/lib/python3.10/site-packages (from google-auth<3,>=1.6.3->tensorboard->detectron2==0.6) (1.16.0)\n",
            "Requirement already satisfied: cachetools<6.0,>=2.0.0 in /home/kareem/.local/lib/python3.10/site-packages (from google-auth<3,>=1.6.3->tensorboard->detectron2==0.6) (5.3.0)\n",
            "Requirement already satisfied: rsa<5,>=3.1.4 in /home/kareem/.local/lib/python3.10/site-packages (from google-auth<3,>=1.6.3->tensorboard->detectron2==0.6) (4.9)\n",
            "Requirement already satisfied: pyasn1-modules>=0.2.1 in /home/kareem/.local/lib/python3.10/site-packages (from google-auth<3,>=1.6.3->tensorboard->detectron2==0.6) (0.3.0)\n",
            "Requirement already satisfied: requests-oauthlib>=0.7.0 in /home/kareem/.local/lib/python3.10/site-packages (from google-auth-oauthlib<1.1,>=0.5->tensorboard->detectron2==0.6) (1.3.1)\n",
            "Requirement already satisfied: certifi>=2017.4.17 in /home/kareem/mambaforge/lib/python3.10/site-packages (from requests<3,>=2.21.0->tensorboard->detectron2==0.6) (2022.12.7)\n",
            "Requirement already satisfied: charset-normalizer<4,>=2 in /home/kareem/mambaforge/lib/python3.10/site-packages (from requests<3,>=2.21.0->tensorboard->detectron2==0.6) (2.1.1)\n",
            "Requirement already satisfied: idna<4,>=2.5 in /home/kareem/mambaforge/lib/python3.10/site-packages (from requests<3,>=2.21.0->tensorboard->detectron2==0.6) (3.4)\n",
            "Requirement already satisfied: urllib3<1.27,>=1.21.1 in /home/kareem/mambaforge/lib/python3.10/site-packages (from requests<3,>=2.21.0->tensorboard->detectron2==0.6) (1.26.14)\n",
            "Requirement already satisfied: MarkupSafe>=2.1.1 in /home/kareem/mambaforge/lib/python3.10/site-packages (from werkzeug>=1.0.1->tensorboard->detectron2==0.6) (2.1.2)\n",
            "Requirement already satisfied: pyasn1<0.6.0,>=0.4.6 in /home/kareem/.local/lib/python3.10/site-packages (from pyasn1-modules>=0.2.1->google-auth<3,>=1.6.3->tensorboard->detectron2==0.6) (0.5.0)\n",
            "Requirement already satisfied: oauthlib>=3.0.0 in /home/kareem/.local/lib/python3.10/site-packages (from requests-oauthlib>=0.7.0->google-auth-oauthlib<1.1,>=0.5->tensorboard->detectron2==0.6) (3.2.2)\n"
          ]
        }
      ],
      "source": [
        "!python -m pip install 'git+https://github.com/facebookresearch/detectron2.git' "
      ]
    },
    {
      "cell_type": "markdown",
      "metadata": {
        "id": "1uuzLKdc-PTk"
      },
      "source": [
        "# Get a predictor"
      ]
    },
    {
      "cell_type": "code",
      "execution_count": 11,
      "metadata": {
        "id": "o5COPf_G_8VV"
      },
      "outputs": [],
      "source": [
        "import detectron2\n",
        "from detectron2.config import get_cfg\n",
        "from detectron2 import model_zoo\n",
        "from detectron2.engine import DefaultPredictor\n",
        "# We suppress some user warnings\n",
        "import warnings\n",
        "warnings.simplefilter(action='ignore', category=UserWarning)\n",
        "# Create a configuration and a predictor\n",
        "def get_predictor(config_file, checkpoint_url, score_thresh_test=0.5):\n",
        "  # create a configuration object\n",
        "  cfg = get_cfg()\n",
        "  # get the configurations from the config_file\n",
        "  config_file = model_zoo.get_config_file(config_file)\n",
        "  cfg.merge_from_file(config_file)\n",
        "  # get the pre-built weights of a trained model from the checkpoint\n",
        "  cfg.MODEL.WEIGHTS = model_zoo.get_checkpoint_url(checkpoint_url)\n",
        "  # set the threshold for recall vs. precision at test time\n",
        "  cfg.MODEL.ROI_HEADS.SCORE_THRESH_TEST = score_thresh_test\n",
        "  # create a predictor\n",
        "  predictor = DefaultPredictor(cfg)\n",
        "  return cfg, predictor"
      ]
    },
    {
      "cell_type": "markdown",
      "metadata": {
        "id": "_YlAqBT9DGYQ"
      },
      "source": [
        "# Perform inference"
      ]
    },
    {
      "cell_type": "code",
      "execution_count": 12,
      "metadata": {
        "id": "ZVJfIP1qDdJ3"
      },
      "outputs": [],
      "source": [
        "import cv2\n",
        "def perform_inference(predictor, input_url):\n",
        "  img = cv2.imread(input_url)\n",
        "  output = predictor(img)\n",
        "  return img, output"
      ]
    },
    {
      "cell_type": "markdown",
      "metadata": {
        "id": "9xxZ2T0mE9UB"
      },
      "source": [
        "# Visualization"
      ]
    },
    {
      "cell_type": "code",
      "execution_count": 17,
      "metadata": {
        "id": "URLQUn1qEYAP"
      },
      "outputs": [],
      "source": [
        "from detectron2.utils.visualizer import Visualizer\n",
        "from detectron2.data import MetadataCatalog\n",
        "# computer vision tasks\n",
        "OBJECT_DETECTION = 0\n",
        "INSTANCE_SEGMENTATION = 1\n",
        "KEYPOINT_DETECTION = 2\n",
        "SEMANTIC_SEGMENTATION = 3\n",
        "PANOPTIC_SEGMENTATION = 4\n",
        "\n",
        "def visualize_output(img, output, cfg, task=OBJECT_DETECTION, scale=1.0):\n",
        "  v = Visualizer(img[:, :, ::-1], MetadataCatalog.get(cfg.DATASETS.TRAIN[0]), scale=scale)\n",
        "  if task == PANOPTIC_SEGMENTATION:\n",
        "    panoptic_seg, segments_info = output[\"panoptic_seg\"]\n",
        "    annotated_img = v.draw_panoptic_seg_predictions(panoptic_seg.to(\"cpu\"), segments_info)\n",
        "  elif task == SEMANTIC_SEGMENTATION:\n",
        "    sem_seg = output[\"sem_seg\"].argmax(dim=0)\n",
        "    annotated_img = v.draw_sem_seg(sem_seg.to(\"cpu\"))\n",
        "  else:\n",
        "    annotated_img = v.draw_instance_predictions(output[\"instances\"].to(\"cpu\"))\n",
        "  cv2.imshow(\"Image\",annotated_img.get_image()[:, :, ::-1])\n",
        "  cv2.waitKey(0)\n",
        "  cv2.destroyAllWindows()"
      ]
    },
    {
      "cell_type": "markdown",
      "metadata": {
        "id": "IzMhabsWJXk0"
      },
      "source": [
        "# Object detection"
      ]
    },
    {
      "cell_type": "code",
      "execution_count": 18,
      "metadata": {
        "colab": {
          "base_uri": "https://localhost:8080/",
          "height": 377
        },
        "id": "YilVpbiMJZgs",
        "outputId": "c79b01c9-4759-468c-8cc6-27afd0eb6650"
      },
      "outputs": [],
      "source": [
        "config_file = \"COCO-Detection/faster_rcnn_X_101_32x8d_FPN_3x.yaml\"\n",
        "checkpoint_url = \"COCO-Detection/faster_rcnn_X_101_32x8d_FPN_3x.yaml\"\n",
        "score_thresh_test = 0.95\n",
        "input_url = \"/home/kareem/Desktop/Alex/medsoft/detectron_hacking/icpcfinal.jpg\"\n",
        "task = OBJECT_DETECTION\n",
        "scale = 0.5\n",
        "# get a predictor\n",
        "cfg, predictor = get_predictor(config_file, checkpoint_url, score_thresh_test)\n",
        "# perform inference\n",
        "img, output = perform_inference(predictor, input_url)\n",
        "# visualization\n",
        "visualize_output(img, output, cfg, task, scale)"
      ]
    },
    {
      "cell_type": "markdown",
      "metadata": {
        "id": "K9tu27rsJave"
      },
      "source": [
        "# Instance segmentation"
      ]
    },
    {
      "cell_type": "code",
      "execution_count": 19,
      "metadata": {
        "colab": {
          "base_uri": "https://localhost:8080/",
          "height": 394
        },
        "id": "EhKGiG8XJb3N",
        "outputId": "e14d6db5-1fa5-4b2e-87d2-1f9c4552599a"
      },
      "outputs": [],
      "source": [
        "config_file = \"COCO-InstanceSegmentation/mask_rcnn_R_101_FPN_3x.yaml\"\n",
        "checkpoint_url = \"COCO-InstanceSegmentation/mask_rcnn_R_101_FPN_3x.yaml\"\n",
        "score_thresh_test = 0.95\n",
        "input_url = \"/home/kareem/Desktop/Alex/medsoft/detectron_hacking/icpcfinal.jpg\"\n",
        "task = INSTANCE_SEGMENTATION\n",
        "scale = 0.5\n",
        "# get a predictor\n",
        "cfg, predictor = get_predictor(config_file, checkpoint_url, score_thresh_test)\n",
        "# perform inference\n",
        "img, output = perform_inference(predictor, input_url)\n",
        "# visualization\n",
        "visualize_output(img, output, cfg, task, scale)"
      ]
    },
    {
      "cell_type": "markdown",
      "metadata": {
        "id": "K4grfi0GLdSo"
      },
      "source": [
        "# Key-point detection"
      ]
    },
    {
      "cell_type": "code",
      "execution_count": 20,
      "metadata": {
        "colab": {
          "base_uri": "https://localhost:8080/",
          "height": 394
        },
        "id": "9SHPE3YTJ79B",
        "outputId": "4778eaf1-2a14-400b-b20e-ca60f5236b52"
      },
      "outputs": [],
      "source": [
        "config_file = \"COCO-Keypoints/keypoint_rcnn_R_101_FPN_3x.yaml\"\n",
        "checkpoint_url = \"COCO-Keypoints/keypoint_rcnn_R_101_FPN_3x.yaml\"\n",
        "score_thresh_test = 0.95\n",
        "input_url = \"/home/kareem/Desktop/Alex/medsoft/detectron_hacking/icpcfinal.jpg\"\n",
        "task = KEYPOINT_DETECTION\n",
        "scale = 0.5\n",
        "# get a predictor\n",
        "cfg, predictor = get_predictor(config_file, checkpoint_url, score_thresh_test)\n",
        "# perform inference\n",
        "img, output = perform_inference(predictor, input_url)\n",
        "# visualization\n",
        "visualize_output(img, output, cfg, task, scale)"
      ]
    },
    {
      "cell_type": "markdown",
      "metadata": {
        "id": "rbhmRmLYzYV_"
      },
      "source": [
        "# Semantic Segmentation"
      ]
    },
    {
      "cell_type": "code",
      "execution_count": 21,
      "metadata": {
        "colab": {
          "base_uri": "https://localhost:8080/",
          "height": 394
        },
        "id": "0drOpK_eysjU",
        "outputId": "c916e111-b28a-4957-bff4-a4195762c68f"
      },
      "outputs": [],
      "source": [
        "config_file = \"COCO-PanopticSegmentation/panoptic_fpn_R_101_3x.yaml\"\n",
        "checkpoint_url = \"COCO-PanopticSegmentation/panoptic_fpn_R_101_3x.yaml\"\n",
        "score_thresh_test = 0.95\n",
        "input_url = \"/home/kareem/Desktop/Alex/medsoft/detectron_hacking/icpcfinal.jpg\"\n",
        "task = SEMANTIC_SEGMENTATION\n",
        "scale = 0.5\n",
        "# get a predictor\n",
        "cfg, predictor = get_predictor(config_file, checkpoint_url, score_thresh_test)\n",
        "# perform inference\n",
        "img, output = perform_inference(predictor, input_url)\n",
        "# visualization\n",
        "visualize_output(img, output, cfg, task, scale)"
      ]
    },
    {
      "cell_type": "markdown",
      "metadata": {
        "id": "sSXVgy6fN0pJ"
      },
      "source": [
        "# Panoptic Segmentation"
      ]
    },
    {
      "cell_type": "code",
      "execution_count": 22,
      "metadata": {
        "colab": {
          "base_uri": "https://localhost:8080/",
          "height": 377
        },
        "id": "GTnhpxcGMTZ7",
        "outputId": "b21c4121-7f80-4655-b422-dbefad9591b3"
      },
      "outputs": [],
      "source": [
        "config_file = \"COCO-PanopticSegmentation/panoptic_fpn_R_101_3x.yaml\"\n",
        "checkpoint_url = \"COCO-PanopticSegmentation/panoptic_fpn_R_101_3x.yaml\"\n",
        "score_thresh_test = 0.95\n",
        "input_url = \"/home/kareem/Desktop/Alex/medsoft/detectron_hacking/icpcfinal.jpg\"\n",
        "task = PANOPTIC_SEGMENTATION\n",
        "scale = 0.5\n",
        "# get a predictor\n",
        "cfg, predictor = get_predictor(config_file, checkpoint_url, score_thresh_test)\n",
        "# perform inference\n",
        "img, output = perform_inference(predictor, input_url)\n",
        "# visualization\n",
        "visualize_output(img, output, cfg, task, scale)"
      ]
    },
    {
      "cell_type": "code",
      "execution_count": 16,
      "metadata": {
        "id": "px6Zl8fk4RDF"
      },
      "outputs": [],
      "source": []
    }
  ],
  "metadata": {
    "accelerator": "GPU",
    "colab": {
      "provenance": []
    },
    "gpuClass": "standard",
    "kernelspec": {
      "display_name": "Python 3",
      "name": "python3"
    },
    "language_info": {
      "codemirror_mode": {
        "name": "ipython",
        "version": 3
      },
      "file_extension": ".py",
      "mimetype": "text/x-python",
      "name": "python",
      "nbconvert_exporter": "python",
      "pygments_lexer": "ipython3",
      "version": "3.10.9"
    }
  },
  "nbformat": 4,
  "nbformat_minor": 0
}
