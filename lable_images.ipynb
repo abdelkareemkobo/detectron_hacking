{
 "cells": [
  {
   "cell_type": "code",
   "execution_count": 1,
   "metadata": {},
   "outputs": [],
   "source": [
    "# !pip install labelImg"
   ]
  },
  {
   "attachments": {},
   "cell_type": "markdown",
   "metadata": {},
   "source": [
    "# Annotation format conversions \n",
    "convert data from Pascal VOC and YOLO formats to COCO style "
   ]
  },
  {
   "cell_type": "code",
   "execution_count": 3,
   "metadata": {},
   "outputs": [
    {
     "name": "stdout",
     "output_type": "stream",
     "text": [
      "Collecting pylabel\n",
      "  Downloading pylabel-0.1.48-py3-none-any.whl (25 kB)\n",
      "Requirement already satisfied: pyyaml in /home/kareem/mambaforge/lib/python3.10/site-packages (from pylabel) (6.0)\n",
      "Collecting jupyter-bbox-widget\n",
      "  Downloading jupyter_bbox_widget-0.5.0-py2.py3-none-any.whl (367 kB)\n",
      "\u001b[2K     \u001b[90m━━━━━━━━━━━━━━━━━━━━━━━━━━━━━━━━━━━━━\u001b[0m \u001b[32m367.8/367.8 kB\u001b[0m \u001b[31m913.5 kB/s\u001b[0m eta \u001b[36m0:00:00\u001b[0m00:01\u001b[0m00:01\u001b[0m\n",
      "\u001b[?25hCollecting scikit-learn\n",
      "  Downloading scikit_learn-1.2.2-cp310-cp310-manylinux_2_17_x86_64.manylinux2014_x86_64.whl (9.6 MB)\n",
      "\u001b[2K     \u001b[90m━━━━━━━━━━━━━━━━━━━━━━━━━━━━━━━━━━━━━━━━\u001b[0m \u001b[32m9.6/9.6 MB\u001b[0m \u001b[31m1.1 MB/s\u001b[0m eta \u001b[36m0:00:00\u001b[0m00:01\u001b[0m00:01\u001b[0m0m\n",
      "\u001b[?25hRequirement already satisfied: matplotlib in /home/kareem/mambaforge/lib/python3.10/site-packages (from pylabel) (3.7.1)\n",
      "Collecting bbox-visualizer\n",
      "  Downloading bbox_visualizer-0.1.0-py2.py3-none-any.whl (6.2 kB)\n",
      "Collecting pandas\n",
      "  Downloading pandas-2.0.0-cp310-cp310-manylinux_2_17_x86_64.manylinux2014_x86_64.whl (12.3 MB)\n",
      "\u001b[2K     \u001b[90m━━━━━━━━━━━━━━━━━━━━━━━━━━━━━━━━━━━━━━━\u001b[0m \u001b[32m12.3/12.3 MB\u001b[0m \u001b[31m934.6 kB/s\u001b[0m eta \u001b[36m0:00:00\u001b[0m0:01\u001b[0m00:01\u001b[0m\n",
      "\u001b[?25hRequirement already satisfied: opencv-python in /home/kareem/mambaforge/lib/python3.10/site-packages (from pylabel) (4.7.0)\n",
      "Requirement already satisfied: tqdm in /home/kareem/mambaforge/lib/python3.10/site-packages (from pylabel) (4.64.1)\n",
      "Collecting ipywidgets>=7.0.0\n",
      "  Downloading ipywidgets-8.0.6-py3-none-any.whl (138 kB)\n",
      "\u001b[2K     \u001b[90m━━━━━━━━━━━━━━━━━━━━━━━━━━━━━━━━━━━━━\u001b[0m \u001b[32m138.3/138.3 kB\u001b[0m \u001b[31m676.4 kB/s\u001b[0m eta \u001b[36m0:00:00\u001b[0ma \u001b[36m0:00:01\u001b[0m\n",
      "\u001b[?25hRequirement already satisfied: numpy>=1.20 in /home/kareem/mambaforge/lib/python3.10/site-packages (from matplotlib->pylabel) (1.24.3)\n",
      "Requirement already satisfied: contourpy>=1.0.1 in /home/kareem/mambaforge/lib/python3.10/site-packages (from matplotlib->pylabel) (1.0.7)\n",
      "Requirement already satisfied: kiwisolver>=1.0.1 in /home/kareem/mambaforge/lib/python3.10/site-packages (from matplotlib->pylabel) (1.4.4)\n",
      "Requirement already satisfied: fonttools>=4.22.0 in /home/kareem/mambaforge/lib/python3.10/site-packages (from matplotlib->pylabel) (4.39.3)\n",
      "Requirement already satisfied: pillow>=6.2.0 in /home/kareem/mambaforge/lib/python3.10/site-packages (from matplotlib->pylabel) (9.4.0)\n",
      "Requirement already satisfied: packaging>=20.0 in /home/kareem/mambaforge/lib/python3.10/site-packages (from matplotlib->pylabel) (23.1)\n",
      "Requirement already satisfied: python-dateutil>=2.7 in /home/kareem/mambaforge/lib/python3.10/site-packages (from matplotlib->pylabel) (2.8.2)\n",
      "Requirement already satisfied: pyparsing>=2.3.1 in /home/kareem/mambaforge/lib/python3.10/site-packages (from matplotlib->pylabel) (3.0.9)\n",
      "Requirement already satisfied: cycler>=0.10 in /home/kareem/mambaforge/lib/python3.10/site-packages (from matplotlib->pylabel) (0.11.0)\n",
      "Collecting pytz>=2020.1\n",
      "  Downloading pytz-2023.3-py2.py3-none-any.whl (502 kB)\n",
      "\u001b[2K     \u001b[90m━━━━━━━━━━━━━━━━━━━━━━━━━━━━━━━━━━━━━━━\u001b[0m \u001b[32m502.3/502.3 kB\u001b[0m \u001b[31m1.0 MB/s\u001b[0m eta \u001b[36m0:00:00\u001b[0m00:01\u001b[0m00:01\u001b[0m\n",
      "\u001b[?25hCollecting tzdata>=2022.1\n",
      "  Downloading tzdata-2023.3-py2.py3-none-any.whl (341 kB)\n",
      "\u001b[2K     \u001b[90m━━━━━━━━━━━━━━━━━━━━━━━━━━━━━━━━━━━━━━━\u001b[0m \u001b[32m341.8/341.8 kB\u001b[0m \u001b[31m1.1 MB/s\u001b[0m eta \u001b[36m0:00:00\u001b[0ma \u001b[36m0:00:01\u001b[0m\n",
      "\u001b[?25hCollecting threadpoolctl>=2.0.0\n",
      "  Downloading threadpoolctl-3.1.0-py3-none-any.whl (14 kB)\n",
      "Collecting scipy>=1.3.2\n",
      "  Downloading scipy-1.10.1-cp310-cp310-manylinux_2_17_x86_64.manylinux2014_x86_64.whl (34.4 MB)\n",
      "\u001b[2K     \u001b[90m━━━━━━━━━━━━━━━━━━━━━━━━━━━━━━━━━━━━━━━━\u001b[0m \u001b[32m34.4/34.4 MB\u001b[0m \u001b[31m1.1 MB/s\u001b[0m eta \u001b[36m0:00:00\u001b[0m00:01\u001b[0m00:01\u001b[0mm\n",
      "\u001b[?25hCollecting joblib>=1.1.1\n",
      "  Downloading joblib-1.2.0-py3-none-any.whl (297 kB)\n",
      "\u001b[2K     \u001b[90m━━━━━━━━━━━━━━━━━━━━━━━━━━━━━━━━━━━━━\u001b[0m \u001b[32m298.0/298.0 kB\u001b[0m \u001b[31m950.9 kB/s\u001b[0m eta \u001b[36m0:00:00\u001b[0ma \u001b[36m0:00:01\u001b[0m\n",
      "\u001b[?25hRequirement already satisfied: ipython>=6.1.0 in /home/kareem/mambaforge/lib/python3.10/site-packages (from ipywidgets>=7.0.0->jupyter-bbox-widget->pylabel) (8.12.0)\n",
      "Requirement already satisfied: traitlets>=4.3.1 in /home/kareem/mambaforge/lib/python3.10/site-packages (from ipywidgets>=7.0.0->jupyter-bbox-widget->pylabel) (5.9.0)\n",
      "Collecting jupyterlab-widgets~=3.0.7\n",
      "  Downloading jupyterlab_widgets-3.0.7-py3-none-any.whl (198 kB)\n",
      "\u001b[2K     \u001b[90m━━━━━━━━━━━━━━━━━━━━━━━━━━━━━━━━━━━━━\u001b[0m \u001b[32m198.2/198.2 kB\u001b[0m \u001b[31m983.5 kB/s\u001b[0m eta \u001b[36m0:00:00\u001b[0m00:01\u001b[0m00:01\u001b[0m\n",
      "\u001b[?25hCollecting widgetsnbextension~=4.0.7\n",
      "  Downloading widgetsnbextension-4.0.7-py3-none-any.whl (2.1 MB)\n",
      "\u001b[2K     \u001b[90m━━━━━━━━━━━━━━━━━━━━━━━━━━━━━━━━━━━━━━━━\u001b[0m \u001b[32m2.1/2.1 MB\u001b[0m \u001b[31m1.0 MB/s\u001b[0m eta \u001b[36m0:00:00\u001b[0m00:01\u001b[0m00:01\u001b[0m0m\n",
      "\u001b[?25hRequirement already satisfied: ipykernel>=4.5.1 in /home/kareem/mambaforge/lib/python3.10/site-packages (from ipywidgets>=7.0.0->jupyter-bbox-widget->pylabel) (6.22.0)\n",
      "Requirement already satisfied: six>=1.5 in /home/kareem/mambaforge/lib/python3.10/site-packages (from python-dateutil>=2.7->matplotlib->pylabel) (1.16.0)\n",
      "Requirement already satisfied: tornado>=6.1 in /home/kareem/mambaforge/lib/python3.10/site-packages (from ipykernel>=4.5.1->ipywidgets>=7.0.0->jupyter-bbox-widget->pylabel) (6.3)\n",
      "Requirement already satisfied: nest-asyncio in /home/kareem/mambaforge/lib/python3.10/site-packages (from ipykernel>=4.5.1->ipywidgets>=7.0.0->jupyter-bbox-widget->pylabel) (1.5.6)\n",
      "Requirement already satisfied: psutil in /home/kareem/mambaforge/lib/python3.10/site-packages (from ipykernel>=4.5.1->ipywidgets>=7.0.0->jupyter-bbox-widget->pylabel) (5.9.5)\n",
      "Requirement already satisfied: matplotlib-inline>=0.1 in /home/kareem/mambaforge/lib/python3.10/site-packages (from ipykernel>=4.5.1->ipywidgets>=7.0.0->jupyter-bbox-widget->pylabel) (0.1.6)\n",
      "Requirement already satisfied: debugpy>=1.6.5 in /home/kareem/mambaforge/lib/python3.10/site-packages (from ipykernel>=4.5.1->ipywidgets>=7.0.0->jupyter-bbox-widget->pylabel) (1.6.7)\n",
      "Requirement already satisfied: pyzmq>=20 in /home/kareem/mambaforge/lib/python3.10/site-packages (from ipykernel>=4.5.1->ipywidgets>=7.0.0->jupyter-bbox-widget->pylabel) (25.0.2)\n",
      "Requirement already satisfied: jupyter-core!=5.0.*,>=4.12 in /home/kareem/mambaforge/lib/python3.10/site-packages (from ipykernel>=4.5.1->ipywidgets>=7.0.0->jupyter-bbox-widget->pylabel) (5.3.0)\n",
      "Requirement already satisfied: jupyter-client>=6.1.12 in /home/kareem/mambaforge/lib/python3.10/site-packages (from ipykernel>=4.5.1->ipywidgets>=7.0.0->jupyter-bbox-widget->pylabel) (8.2.0)\n",
      "Requirement already satisfied: comm>=0.1.1 in /home/kareem/mambaforge/lib/python3.10/site-packages (from ipykernel>=4.5.1->ipywidgets>=7.0.0->jupyter-bbox-widget->pylabel) (0.1.3)\n",
      "Requirement already satisfied: pygments>=2.4.0 in /home/kareem/mambaforge/lib/python3.10/site-packages (from ipython>=6.1.0->ipywidgets>=7.0.0->jupyter-bbox-widget->pylabel) (2.15.1)\n",
      "Requirement already satisfied: pexpect>4.3 in /home/kareem/mambaforge/lib/python3.10/site-packages (from ipython>=6.1.0->ipywidgets>=7.0.0->jupyter-bbox-widget->pylabel) (4.8.0)\n",
      "Requirement already satisfied: prompt-toolkit!=3.0.37,<3.1.0,>=3.0.30 in /home/kareem/mambaforge/lib/python3.10/site-packages (from ipython>=6.1.0->ipywidgets>=7.0.0->jupyter-bbox-widget->pylabel) (3.0.38)\n",
      "Requirement already satisfied: jedi>=0.16 in /home/kareem/mambaforge/lib/python3.10/site-packages (from ipython>=6.1.0->ipywidgets>=7.0.0->jupyter-bbox-widget->pylabel) (0.18.2)\n",
      "Requirement already satisfied: backcall in /home/kareem/mambaforge/lib/python3.10/site-packages (from ipython>=6.1.0->ipywidgets>=7.0.0->jupyter-bbox-widget->pylabel) (0.2.0)\n",
      "Requirement already satisfied: stack-data in /home/kareem/mambaforge/lib/python3.10/site-packages (from ipython>=6.1.0->ipywidgets>=7.0.0->jupyter-bbox-widget->pylabel) (0.6.2)\n",
      "Requirement already satisfied: pickleshare in /home/kareem/mambaforge/lib/python3.10/site-packages (from ipython>=6.1.0->ipywidgets>=7.0.0->jupyter-bbox-widget->pylabel) (0.7.5)\n",
      "Requirement already satisfied: decorator in /home/kareem/mambaforge/lib/python3.10/site-packages (from ipython>=6.1.0->ipywidgets>=7.0.0->jupyter-bbox-widget->pylabel) (5.1.1)\n",
      "Requirement already satisfied: parso<0.9.0,>=0.8.0 in /home/kareem/mambaforge/lib/python3.10/site-packages (from jedi>=0.16->ipython>=6.1.0->ipywidgets>=7.0.0->jupyter-bbox-widget->pylabel) (0.8.3)\n",
      "Requirement already satisfied: platformdirs>=2.5 in /home/kareem/mambaforge/lib/python3.10/site-packages (from jupyter-core!=5.0.*,>=4.12->ipykernel>=4.5.1->ipywidgets>=7.0.0->jupyter-bbox-widget->pylabel) (3.2.0)\n",
      "Requirement already satisfied: ptyprocess>=0.5 in /home/kareem/mambaforge/lib/python3.10/site-packages (from pexpect>4.3->ipython>=6.1.0->ipywidgets>=7.0.0->jupyter-bbox-widget->pylabel) (0.7.0)\n",
      "Requirement already satisfied: wcwidth in /home/kareem/mambaforge/lib/python3.10/site-packages (from prompt-toolkit!=3.0.37,<3.1.0,>=3.0.30->ipython>=6.1.0->ipywidgets>=7.0.0->jupyter-bbox-widget->pylabel) (0.2.6)\n",
      "Requirement already satisfied: asttokens>=2.1.0 in /home/kareem/mambaforge/lib/python3.10/site-packages (from stack-data->ipython>=6.1.0->ipywidgets>=7.0.0->jupyter-bbox-widget->pylabel) (2.2.1)\n",
      "Requirement already satisfied: executing>=1.2.0 in /home/kareem/mambaforge/lib/python3.10/site-packages (from stack-data->ipython>=6.1.0->ipywidgets>=7.0.0->jupyter-bbox-widget->pylabel) (1.2.0)\n",
      "Requirement already satisfied: pure-eval in /home/kareem/mambaforge/lib/python3.10/site-packages (from stack-data->ipython>=6.1.0->ipywidgets>=7.0.0->jupyter-bbox-widget->pylabel) (0.2.2)\n",
      "Installing collected packages: pytz, widgetsnbextension, tzdata, threadpoolctl, scipy, jupyterlab-widgets, joblib, bbox-visualizer, scikit-learn, pandas, ipywidgets, jupyter-bbox-widget, pylabel\n",
      "Successfully installed bbox-visualizer-0.1.0 ipywidgets-8.0.6 joblib-1.2.0 jupyter-bbox-widget-0.5.0 jupyterlab-widgets-3.0.7 pandas-2.0.0 pylabel-0.1.48 pytz-2023.3 scikit-learn-1.2.2 scipy-1.10.1 threadpoolctl-3.1.0 tzdata-2023.3 widgetsnbextension-4.0.7\n"
     ]
    }
   ],
   "source": [
    "!pip install pylabel "
   ]
  },
  {
   "cell_type": "code",
   "execution_count": 4,
   "metadata": {},
   "outputs": [
    {
     "name": "stdout",
     "output_type": "stream",
     "text": [
      "--2023-04-24 06:46:27--  https://github.com/PacktPublishing/Hands-On-Computer-Vision-with-Detectron2/raw/main/datasets/voc.zip\n",
      "Resolving github.com (github.com)... 140.82.121.3\n",
      "Connecting to github.com (github.com)|140.82.121.3|:443... connected.\n",
      "HTTP request sent, awaiting response... 302 Found\n",
      "Location: https://media.githubusercontent.com/media/PacktPublishing/Hands-On-Computer-Vision-with-Detectron2/main/datasets/voc.zip [following]\n",
      "--2023-04-24 06:46:27--  https://media.githubusercontent.com/media/PacktPublishing/Hands-On-Computer-Vision-with-Detectron2/main/datasets/voc.zip\n",
      "Resolving media.githubusercontent.com (media.githubusercontent.com)... 185.199.110.133, 185.199.111.133, 185.199.109.133, ...\n",
      "Connecting to media.githubusercontent.com (media.githubusercontent.com)|185.199.110.133|:443... connected.\n",
      "HTTP request sent, awaiting response... 200 OK\n",
      "Length: 15980 (16K) [application/zip]\n",
      "Saving to: ‘voc.zip’\n",
      "\n",
      "voc.zip             100%[===================>]  15.61K  --.-KB/s    in 0.05s   \n",
      "\n",
      "2023-04-24 06:46:28 (292 KB/s) - ‘voc.zip’ saved [15980/15980]\n",
      "\n",
      "Archive:  voc.zip\n",
      "   creating: voc/\n",
      "  inflating: __MACOSX/._voc          \n",
      "  inflating: voc/.DS_Store           \n",
      "  inflating: __MACOSX/voc/._.DS_Store  \n",
      "   creating: voc/test/\n",
      "  inflating: __MACOSX/voc/._test     \n",
      "  inflating: voc/test/00003_154.jpg  \n",
      "  inflating: __MACOSX/voc/test/._00003_154.jpg  \n",
      "  inflating: voc/test/00003_154.xml  \n",
      "  inflating: __MACOSX/voc/test/._00003_154.xml  \n",
      "  inflating: voc/test/00000_102.xml  \n",
      "  inflating: __MACOSX/voc/test/._00000_102.xml  \n",
      "  inflating: voc/test/00000_102.jpg  \n",
      "  inflating: __MACOSX/voc/test/._00000_102.jpg  \n"
     ]
    }
   ],
   "source": [
    "# Download the dataset and unzip it\n",
    "!wget https://github.com/PacktPublishing/Hands-On-Computer-Vision-with-Detectron2/raw/main/datasets/voc.zip\n",
    "!unzip voc.zip"
   ]
  },
  {
   "cell_type": "code",
   "execution_count": 6,
   "metadata": {},
   "outputs": [
    {
     "name": "stdout",
     "output_type": "stream",
     "text": [
      "\u001b[01;34mvoc\u001b[0m\n",
      "└── \u001b[01;34mtest\u001b[0m\n",
      "    ├── \u001b[01;35m00000_102.jpg\u001b[0m\n",
      "    ├── \u001b[00m00000_102.xml\u001b[0m\n",
      "    ├── \u001b[01;35m00003_154.jpg\u001b[0m\n",
      "    └── \u001b[00m00003_154.xml\u001b[0m\n",
      "\n",
      "1 directory, 4 files\n"
     ]
    }
   ],
   "source": [
    "!tree voc "
   ]
  },
  {
   "cell_type": "code",
   "execution_count": 8,
   "metadata": {},
   "outputs": [
    {
     "name": "stderr",
     "output_type": "stream",
     "text": [
      "100%|██████████| 2/2 [00:00<00:00, 1545.72it/s]\n",
      "100%|██████████| 2/2 [00:00<00:00, 1812.58it/s]\n"
     ]
    }
   ],
   "source": [
    "import os \n",
    "import shutil\n",
    "from glob import glob \n",
    "from tqdm import tqdm \n",
    "\n",
    "voc_dir = \"voc/test/\"\n",
    "coco_dir = \"coco/test\"\n",
    "os.makedirs(coco_dir,exist_ok=True)\n",
    "xml_files = glob(os.path.join(voc_dir,\"*.xml\"))\n",
    "img_files = glob(os.path.join(voc_dir,\"*.jpg\"))\n",
    "#copy annotations \n",
    "for f in tqdm(xml_files):\n",
    "    shutil.copy(f,coco_dir)\n",
    "#copy images \n",
    "for f in tqdm(img_files):\n",
    "    shutil.copy(f,coco_dir)"
   ]
  },
  {
   "cell_type": "code",
   "execution_count": 9,
   "metadata": {},
   "outputs": [
    {
     "name": "stderr",
     "output_type": "stream",
     "text": [
      "Importing VOC files...: 100%|██████████| 4/4 [00:00<00:00, 391.19it/s]\n"
     ]
    }
   ],
   "source": [
    "from pylabel import importer\n",
    "#load dataset \n",
    "dataset = importer.ImportVOC(coco_dir,name=\"brain tumors\")"
   ]
  },
  {
   "cell_type": "code",
   "execution_count": 10,
   "metadata": {},
   "outputs": [
    {
     "name": "stderr",
     "output_type": "stream",
     "text": [
      "Exporting to COCO file...: 100%|██████████| 2/2 [00:00<00:00, 498.25it/s]\n"
     ]
    },
    {
     "data": {
      "text/plain": [
       "['coco/test/_annotations.coco.json']"
      ]
     },
     "execution_count": 10,
     "metadata": {},
     "output_type": "execute_result"
    }
   ],
   "source": [
    "#export \n",
    "coco_file = os.path.join(coco_dir,\"_annotations.coco.json\")\n",
    "#Detectron requires starting index from 1 \n",
    "dataset.export.ExportToCoco(coco_file,cat_id_index=1)"
   ]
  },
  {
   "cell_type": "code",
   "execution_count": 16,
   "metadata": {},
   "outputs": [
    {
     "name": "stderr",
     "output_type": "stream",
     "text": [
      "100%|██████████| 2/2 [00:00<00:00, 4062.28it/s]\n"
     ]
    }
   ],
   "source": [
    "xml_files = glob(os.path.join(coco_dir,\"*.xml\"))\n",
    "#delete XML Files \n",
    "for f in tqdm(xml_files):\n",
    "    os.remove(f)"
   ]
  },
  {
   "cell_type": "code",
   "execution_count": 17,
   "metadata": {},
   "outputs": [
    {
     "name": "stdout",
     "output_type": "stream",
     "text": [
      "\u001b[01;34mcoco\u001b[0m\n",
      "└── \u001b[01;34mtest\u001b[0m\n",
      "    ├── \u001b[01;35m00000_102.jpg\u001b[0m\n",
      "    ├── \u001b[01;35m00003_154.jpg\u001b[0m\n",
      "    └── \u001b[00m_annotations.coco.json\u001b[0m\n",
      "\n",
      "1 directory, 3 files\n"
     ]
    }
   ],
   "source": [
    "!tree coco "
   ]
  },
  {
   "cell_type": "code",
   "execution_count": null,
   "metadata": {},
   "outputs": [],
   "source": []
  },
  {
   "cell_type": "code",
   "execution_count": null,
   "metadata": {},
   "outputs": [],
   "source": []
  }
 ],
 "metadata": {
  "kernelspec": {
   "display_name": "base",
   "language": "python",
   "name": "python3"
  },
  "language_info": {
   "codemirror_mode": {
    "name": "ipython",
    "version": 3
   },
   "file_extension": ".py",
   "mimetype": "text/x-python",
   "name": "python",
   "nbconvert_exporter": "python",
   "pygments_lexer": "ipython3",
   "version": "3.10.9"
  },
  "orig_nbformat": 4
 },
 "nbformat": 4,
 "nbformat_minor": 2
}
