{
 "cells": [
  {
   "cell_type": "code",
   "execution_count": 1,
   "metadata": {},
   "outputs": [],
   "source": [
    "\n",
    "# !wget -q https://github.com/PacktPublishing/Hands-On-Computer-Vision-with-Detectron2/raw/main/datasets/braintumors_coco.zip\n",
    "# !unzip -q braintumors_coco.zip"
   ]
  },
  {
   "attachments": {},
   "cell_type": "markdown",
   "metadata": {},
   "source": [
    "# Register datasets "
   ]
  },
  {
   "cell_type": "code",
   "execution_count": 2,
   "metadata": {},
   "outputs": [],
   "source": [
    "from detectron2.utils.logger import setup_logger \n",
    "logger = setup_logger()"
   ]
  },
  {
   "cell_type": "code",
   "execution_count": 3,
   "metadata": {},
   "outputs": [],
   "source": [
    "from detectron2.data.datasets import register_coco_instances"
   ]
  },
  {
   "cell_type": "code",
   "execution_count": 4,
   "metadata": {},
   "outputs": [],
   "source": [
    "#Some configurations \n",
    "name_ds = \"braintumors_coco\"\n",
    "name_ds_train = name_ds + \"_train\"\n",
    "image_root_train = name_ds +\"/train\"\n",
    "af = \"_annotations.coco.json\"\n",
    "json_file_train = name_ds + \"/train/\" + af "
   ]
  },
  {
   "cell_type": "code",
   "execution_count": 5,
   "metadata": {},
   "outputs": [],
   "source": [
    "#Register the dataset \n",
    "### Train dataset \n",
    "register_coco_instances(\n",
    "    name = name_ds_train,\n",
    "    metadata={},\n",
    "    json_file = json_file_train,\n",
    "    image_root = image_root_train\n",
    ")"
   ]
  },
  {
   "cell_type": "markdown",
   "metadata": {},
   "source": [
    "# Training configuration "
   ]
  },
  {
   "cell_type": "code",
   "execution_count": 6,
   "metadata": {},
   "outputs": [],
   "source": [
    "import os \n",
    "from detectron2.config import get_cfg\n",
    "from detectron2 import model_zoo\n",
    "import pickle"
   ]
  },
  {
   "cell_type": "code",
   "execution_count": 7,
   "metadata": {},
   "outputs": [],
   "source": [
    "output_dir = \"output/object_detector_hook\"\n",
    "os.makedirs(output_dir,exist_ok=True)\n",
    "output_cfg_path = os.path.join(output_dir,\"cfg.pickle\")\n",
    "nc = 2\n",
    "device = \"cuda\"\n",
    "### Select a model \n",
    "config_file_url = \"COCO-Detection/faster_rcnn_X_101_32x8d_FPN_3x.yaml\"\n",
    "checkpoint_url = \"COCO-Detection/faster_rcnn_X_101_32x8d_FPN_3x.yaml\""
   ]
  },
  {
   "cell_type": "code",
   "execution_count": 8,
   "metadata": {},
   "outputs": [],
   "source": [
    "#Create a configuration file \n",
    "cfg = get_cfg()\n",
    "config_file = model_zoo.get_config_file(config_file_url)\n",
    "cfg.merge_from_file(config_file)\n",
    "cfg.MODEL.WEIGHTS  = model_zoo.get_checkpoint_url(checkpoint_url)\n",
    "# Set datasets\n",
    "cfg.DATASETS.TRAIN  = (name_ds_train)\n",
    "cfg.DATALOADER.NUM_WORKERS = nc\n",
    "cfg.SOLVER.IMS_PER_BATCH = 6\n",
    "cfg.SOLVER.BASE_LR = 0.00025 \n",
    "cfg.SOLVER.MAX_ITER = 5000 \n",
    "cfg.SOLVER.CHECKPOINT_PERIOD = 500 \n",
    "cfg.TEST.EVAL_PERIOD  = cfg.SOLVER.CHECKPOINT_PERIOD \n",
    "\n",
    "cfg.MODEL.ROI_HEADS.NUM_CLASSES = nc \n",
    "cfg.MODEL.DEVICE  = device \n",
    "cfg.OUTPUT_DIR = output_dir   "
   ]
  },
  {
   "cell_type": "code",
   "execution_count": 9,
   "metadata": {},
   "outputs": [
    {
     "name": "stdout",
     "output_type": "stream",
     "text": [
      "\u001b[32m[04/26 00:32:52 d2.engine.defaults]: \u001b[0mModel:\n",
      "GeneralizedRCNN(\n",
      "  (backbone): FPN(\n",
      "    (fpn_lateral2): Conv2d(256, 256, kernel_size=(1, 1), stride=(1, 1))\n",
      "    (fpn_output2): Conv2d(256, 256, kernel_size=(3, 3), stride=(1, 1), padding=(1, 1))\n",
      "    (fpn_lateral3): Conv2d(512, 256, kernel_size=(1, 1), stride=(1, 1))\n",
      "    (fpn_output3): Conv2d(256, 256, kernel_size=(3, 3), stride=(1, 1), padding=(1, 1))\n",
      "    (fpn_lateral4): Conv2d(1024, 256, kernel_size=(1, 1), stride=(1, 1))\n",
      "    (fpn_output4): Conv2d(256, 256, kernel_size=(3, 3), stride=(1, 1), padding=(1, 1))\n",
      "    (fpn_lateral5): Conv2d(2048, 256, kernel_size=(1, 1), stride=(1, 1))\n",
      "    (fpn_output5): Conv2d(256, 256, kernel_size=(3, 3), stride=(1, 1), padding=(1, 1))\n",
      "    (top_block): LastLevelMaxPool()\n",
      "    (bottom_up): ResNet(\n",
      "      (stem): BasicStem(\n",
      "        (conv1): Conv2d(\n",
      "          3, 64, kernel_size=(7, 7), stride=(2, 2), padding=(3, 3), bias=False\n",
      "          (norm): FrozenBatchNorm2d(num_features=64, eps=1e-05)\n",
      "        )\n",
      "      )\n",
      "      (res2): Sequential(\n",
      "        (0): BottleneckBlock(\n",
      "          (shortcut): Conv2d(\n",
      "            64, 256, kernel_size=(1, 1), stride=(1, 1), bias=False\n",
      "            (norm): FrozenBatchNorm2d(num_features=256, eps=1e-05)\n",
      "          )\n",
      "          (conv1): Conv2d(\n",
      "            64, 256, kernel_size=(1, 1), stride=(1, 1), bias=False\n",
      "            (norm): FrozenBatchNorm2d(num_features=256, eps=1e-05)\n",
      "          )\n",
      "          (conv2): Conv2d(\n",
      "            256, 256, kernel_size=(3, 3), stride=(1, 1), padding=(1, 1), groups=32, bias=False\n",
      "            (norm): FrozenBatchNorm2d(num_features=256, eps=1e-05)\n",
      "          )\n",
      "          (conv3): Conv2d(\n",
      "            256, 256, kernel_size=(1, 1), stride=(1, 1), bias=False\n",
      "            (norm): FrozenBatchNorm2d(num_features=256, eps=1e-05)\n",
      "          )\n",
      "        )\n",
      "        (1): BottleneckBlock(\n",
      "          (conv1): Conv2d(\n",
      "            256, 256, kernel_size=(1, 1), stride=(1, 1), bias=False\n",
      "            (norm): FrozenBatchNorm2d(num_features=256, eps=1e-05)\n",
      "          )\n",
      "          (conv2): Conv2d(\n",
      "            256, 256, kernel_size=(3, 3), stride=(1, 1), padding=(1, 1), groups=32, bias=False\n",
      "            (norm): FrozenBatchNorm2d(num_features=256, eps=1e-05)\n",
      "          )\n",
      "          (conv3): Conv2d(\n",
      "            256, 256, kernel_size=(1, 1), stride=(1, 1), bias=False\n",
      "            (norm): FrozenBatchNorm2d(num_features=256, eps=1e-05)\n",
      "          )\n",
      "        )\n",
      "        (2): BottleneckBlock(\n",
      "          (conv1): Conv2d(\n",
      "            256, 256, kernel_size=(1, 1), stride=(1, 1), bias=False\n",
      "            (norm): FrozenBatchNorm2d(num_features=256, eps=1e-05)\n",
      "          )\n",
      "          (conv2): Conv2d(\n",
      "            256, 256, kernel_size=(3, 3), stride=(1, 1), padding=(1, 1), groups=32, bias=False\n",
      "            (norm): FrozenBatchNorm2d(num_features=256, eps=1e-05)\n",
      "          )\n",
      "          (conv3): Conv2d(\n",
      "            256, 256, kernel_size=(1, 1), stride=(1, 1), bias=False\n",
      "            (norm): FrozenBatchNorm2d(num_features=256, eps=1e-05)\n",
      "          )\n",
      "        )\n",
      "      )\n",
      "      (res3): Sequential(\n",
      "        (0): BottleneckBlock(\n",
      "          (shortcut): Conv2d(\n",
      "            256, 512, kernel_size=(1, 1), stride=(2, 2), bias=False\n",
      "            (norm): FrozenBatchNorm2d(num_features=512, eps=1e-05)\n",
      "          )\n",
      "          (conv1): Conv2d(\n",
      "            256, 512, kernel_size=(1, 1), stride=(1, 1), bias=False\n",
      "            (norm): FrozenBatchNorm2d(num_features=512, eps=1e-05)\n",
      "          )\n",
      "          (conv2): Conv2d(\n",
      "            512, 512, kernel_size=(3, 3), stride=(2, 2), padding=(1, 1), groups=32, bias=False\n",
      "            (norm): FrozenBatchNorm2d(num_features=512, eps=1e-05)\n",
      "          )\n",
      "          (conv3): Conv2d(\n",
      "            512, 512, kernel_size=(1, 1), stride=(1, 1), bias=False\n",
      "            (norm): FrozenBatchNorm2d(num_features=512, eps=1e-05)\n",
      "          )\n",
      "        )\n",
      "        (1): BottleneckBlock(\n",
      "          (conv1): Conv2d(\n",
      "            512, 512, kernel_size=(1, 1), stride=(1, 1), bias=False\n",
      "            (norm): FrozenBatchNorm2d(num_features=512, eps=1e-05)\n",
      "          )\n",
      "          (conv2): Conv2d(\n",
      "            512, 512, kernel_size=(3, 3), stride=(1, 1), padding=(1, 1), groups=32, bias=False\n",
      "            (norm): FrozenBatchNorm2d(num_features=512, eps=1e-05)\n",
      "          )\n",
      "          (conv3): Conv2d(\n",
      "            512, 512, kernel_size=(1, 1), stride=(1, 1), bias=False\n",
      "            (norm): FrozenBatchNorm2d(num_features=512, eps=1e-05)\n",
      "          )\n",
      "        )\n",
      "        (2): BottleneckBlock(\n",
      "          (conv1): Conv2d(\n",
      "            512, 512, kernel_size=(1, 1), stride=(1, 1), bias=False\n",
      "            (norm): FrozenBatchNorm2d(num_features=512, eps=1e-05)\n",
      "          )\n",
      "          (conv2): Conv2d(\n",
      "            512, 512, kernel_size=(3, 3), stride=(1, 1), padding=(1, 1), groups=32, bias=False\n",
      "            (norm): FrozenBatchNorm2d(num_features=512, eps=1e-05)\n",
      "          )\n",
      "          (conv3): Conv2d(\n",
      "            512, 512, kernel_size=(1, 1), stride=(1, 1), bias=False\n",
      "            (norm): FrozenBatchNorm2d(num_features=512, eps=1e-05)\n",
      "          )\n",
      "        )\n",
      "        (3): BottleneckBlock(\n",
      "          (conv1): Conv2d(\n",
      "            512, 512, kernel_size=(1, 1), stride=(1, 1), bias=False\n",
      "            (norm): FrozenBatchNorm2d(num_features=512, eps=1e-05)\n",
      "          )\n",
      "          (conv2): Conv2d(\n",
      "            512, 512, kernel_size=(3, 3), stride=(1, 1), padding=(1, 1), groups=32, bias=False\n",
      "            (norm): FrozenBatchNorm2d(num_features=512, eps=1e-05)\n",
      "          )\n",
      "          (conv3): Conv2d(\n",
      "            512, 512, kernel_size=(1, 1), stride=(1, 1), bias=False\n",
      "            (norm): FrozenBatchNorm2d(num_features=512, eps=1e-05)\n",
      "          )\n",
      "        )\n",
      "      )\n",
      "      (res4): Sequential(\n",
      "        (0): BottleneckBlock(\n",
      "          (shortcut): Conv2d(\n",
      "            512, 1024, kernel_size=(1, 1), stride=(2, 2), bias=False\n",
      "            (norm): FrozenBatchNorm2d(num_features=1024, eps=1e-05)\n",
      "          )\n",
      "          (conv1): Conv2d(\n",
      "            512, 1024, kernel_size=(1, 1), stride=(1, 1), bias=False\n",
      "            (norm): FrozenBatchNorm2d(num_features=1024, eps=1e-05)\n",
      "          )\n",
      "          (conv2): Conv2d(\n",
      "            1024, 1024, kernel_size=(3, 3), stride=(2, 2), padding=(1, 1), groups=32, bias=False\n",
      "            (norm): FrozenBatchNorm2d(num_features=1024, eps=1e-05)\n",
      "          )\n",
      "          (conv3): Conv2d(\n",
      "            1024, 1024, kernel_size=(1, 1), stride=(1, 1), bias=False\n",
      "            (norm): FrozenBatchNorm2d(num_features=1024, eps=1e-05)\n",
      "          )\n",
      "        )\n",
      "        (1): BottleneckBlock(\n",
      "          (conv1): Conv2d(\n",
      "            1024, 1024, kernel_size=(1, 1), stride=(1, 1), bias=False\n",
      "            (norm): FrozenBatchNorm2d(num_features=1024, eps=1e-05)\n",
      "          )\n",
      "          (conv2): Conv2d(\n",
      "            1024, 1024, kernel_size=(3, 3), stride=(1, 1), padding=(1, 1), groups=32, bias=False\n",
      "            (norm): FrozenBatchNorm2d(num_features=1024, eps=1e-05)\n",
      "          )\n",
      "          (conv3): Conv2d(\n",
      "            1024, 1024, kernel_size=(1, 1), stride=(1, 1), bias=False\n",
      "            (norm): FrozenBatchNorm2d(num_features=1024, eps=1e-05)\n",
      "          )\n",
      "        )\n",
      "        (2): BottleneckBlock(\n",
      "          (conv1): Conv2d(\n",
      "            1024, 1024, kernel_size=(1, 1), stride=(1, 1), bias=False\n",
      "            (norm): FrozenBatchNorm2d(num_features=1024, eps=1e-05)\n",
      "          )\n",
      "          (conv2): Conv2d(\n",
      "            1024, 1024, kernel_size=(3, 3), stride=(1, 1), padding=(1, 1), groups=32, bias=False\n",
      "            (norm): FrozenBatchNorm2d(num_features=1024, eps=1e-05)\n",
      "          )\n",
      "          (conv3): Conv2d(\n",
      "            1024, 1024, kernel_size=(1, 1), stride=(1, 1), bias=False\n",
      "            (norm): FrozenBatchNorm2d(num_features=1024, eps=1e-05)\n",
      "          )\n",
      "        )\n",
      "        (3): BottleneckBlock(\n",
      "          (conv1): Conv2d(\n",
      "            1024, 1024, kernel_size=(1, 1), stride=(1, 1), bias=False\n",
      "            (norm): FrozenBatchNorm2d(num_features=1024, eps=1e-05)\n",
      "          )\n",
      "          (conv2): Conv2d(\n",
      "            1024, 1024, kernel_size=(3, 3), stride=(1, 1), padding=(1, 1), groups=32, bias=False\n",
      "            (norm): FrozenBatchNorm2d(num_features=1024, eps=1e-05)\n",
      "          )\n",
      "          (conv3): Conv2d(\n",
      "            1024, 1024, kernel_size=(1, 1), stride=(1, 1), bias=False\n",
      "            (norm): FrozenBatchNorm2d(num_features=1024, eps=1e-05)\n",
      "          )\n",
      "        )\n",
      "        (4): BottleneckBlock(\n",
      "          (conv1): Conv2d(\n",
      "            1024, 1024, kernel_size=(1, 1), stride=(1, 1), bias=False\n",
      "            (norm): FrozenBatchNorm2d(num_features=1024, eps=1e-05)\n",
      "          )\n",
      "          (conv2): Conv2d(\n",
      "            1024, 1024, kernel_size=(3, 3), stride=(1, 1), padding=(1, 1), groups=32, bias=False\n",
      "            (norm): FrozenBatchNorm2d(num_features=1024, eps=1e-05)\n",
      "          )\n",
      "          (conv3): Conv2d(\n",
      "            1024, 1024, kernel_size=(1, 1), stride=(1, 1), bias=False\n",
      "            (norm): FrozenBatchNorm2d(num_features=1024, eps=1e-05)\n",
      "          )\n",
      "        )\n",
      "        (5): BottleneckBlock(\n",
      "          (conv1): Conv2d(\n",
      "            1024, 1024, kernel_size=(1, 1), stride=(1, 1), bias=False\n",
      "            (norm): FrozenBatchNorm2d(num_features=1024, eps=1e-05)\n",
      "          )\n",
      "          (conv2): Conv2d(\n",
      "            1024, 1024, kernel_size=(3, 3), stride=(1, 1), padding=(1, 1), groups=32, bias=False\n",
      "            (norm): FrozenBatchNorm2d(num_features=1024, eps=1e-05)\n",
      "          )\n",
      "          (conv3): Conv2d(\n",
      "            1024, 1024, kernel_size=(1, 1), stride=(1, 1), bias=False\n",
      "            (norm): FrozenBatchNorm2d(num_features=1024, eps=1e-05)\n",
      "          )\n",
      "        )\n",
      "        (6): BottleneckBlock(\n",
      "          (conv1): Conv2d(\n",
      "            1024, 1024, kernel_size=(1, 1), stride=(1, 1), bias=False\n",
      "            (norm): FrozenBatchNorm2d(num_features=1024, eps=1e-05)\n",
      "          )\n",
      "          (conv2): Conv2d(\n",
      "            1024, 1024, kernel_size=(3, 3), stride=(1, 1), padding=(1, 1), groups=32, bias=False\n",
      "            (norm): FrozenBatchNorm2d(num_features=1024, eps=1e-05)\n",
      "          )\n",
      "          (conv3): Conv2d(\n",
      "            1024, 1024, kernel_size=(1, 1), stride=(1, 1), bias=False\n",
      "            (norm): FrozenBatchNorm2d(num_features=1024, eps=1e-05)\n",
      "          )\n",
      "        )\n",
      "        (7): BottleneckBlock(\n",
      "          (conv1): Conv2d(\n",
      "            1024, 1024, kernel_size=(1, 1), stride=(1, 1), bias=False\n",
      "            (norm): FrozenBatchNorm2d(num_features=1024, eps=1e-05)\n",
      "          )\n",
      "          (conv2): Conv2d(\n",
      "            1024, 1024, kernel_size=(3, 3), stride=(1, 1), padding=(1, 1), groups=32, bias=False\n",
      "            (norm): FrozenBatchNorm2d(num_features=1024, eps=1e-05)\n",
      "          )\n",
      "          (conv3): Conv2d(\n",
      "            1024, 1024, kernel_size=(1, 1), stride=(1, 1), bias=False\n",
      "            (norm): FrozenBatchNorm2d(num_features=1024, eps=1e-05)\n",
      "          )\n",
      "        )\n",
      "        (8): BottleneckBlock(\n",
      "          (conv1): Conv2d(\n",
      "            1024, 1024, kernel_size=(1, 1), stride=(1, 1), bias=False\n",
      "            (norm): FrozenBatchNorm2d(num_features=1024, eps=1e-05)\n",
      "          )\n",
      "          (conv2): Conv2d(\n",
      "            1024, 1024, kernel_size=(3, 3), stride=(1, 1), padding=(1, 1), groups=32, bias=False\n",
      "            (norm): FrozenBatchNorm2d(num_features=1024, eps=1e-05)\n",
      "          )\n",
      "          (conv3): Conv2d(\n",
      "            1024, 1024, kernel_size=(1, 1), stride=(1, 1), bias=False\n",
      "            (norm): FrozenBatchNorm2d(num_features=1024, eps=1e-05)\n",
      "          )\n",
      "        )\n",
      "        (9): BottleneckBlock(\n",
      "          (conv1): Conv2d(\n",
      "            1024, 1024, kernel_size=(1, 1), stride=(1, 1), bias=False\n",
      "            (norm): FrozenBatchNorm2d(num_features=1024, eps=1e-05)\n",
      "          )\n",
      "          (conv2): Conv2d(\n",
      "            1024, 1024, kernel_size=(3, 3), stride=(1, 1), padding=(1, 1), groups=32, bias=False\n",
      "            (norm): FrozenBatchNorm2d(num_features=1024, eps=1e-05)\n",
      "          )\n",
      "          (conv3): Conv2d(\n",
      "            1024, 1024, kernel_size=(1, 1), stride=(1, 1), bias=False\n",
      "            (norm): FrozenBatchNorm2d(num_features=1024, eps=1e-05)\n",
      "          )\n",
      "        )\n",
      "        (10): BottleneckBlock(\n",
      "          (conv1): Conv2d(\n",
      "            1024, 1024, kernel_size=(1, 1), stride=(1, 1), bias=False\n",
      "            (norm): FrozenBatchNorm2d(num_features=1024, eps=1e-05)\n",
      "          )\n",
      "          (conv2): Conv2d(\n",
      "            1024, 1024, kernel_size=(3, 3), stride=(1, 1), padding=(1, 1), groups=32, bias=False\n",
      "            (norm): FrozenBatchNorm2d(num_features=1024, eps=1e-05)\n",
      "          )\n",
      "          (conv3): Conv2d(\n",
      "            1024, 1024, kernel_size=(1, 1), stride=(1, 1), bias=False\n",
      "            (norm): FrozenBatchNorm2d(num_features=1024, eps=1e-05)\n",
      "          )\n",
      "        )\n",
      "        (11): BottleneckBlock(\n",
      "          (conv1): Conv2d(\n",
      "            1024, 1024, kernel_size=(1, 1), stride=(1, 1), bias=False\n",
      "            (norm): FrozenBatchNorm2d(num_features=1024, eps=1e-05)\n",
      "          )\n",
      "          (conv2): Conv2d(\n",
      "            1024, 1024, kernel_size=(3, 3), stride=(1, 1), padding=(1, 1), groups=32, bias=False\n",
      "            (norm): FrozenBatchNorm2d(num_features=1024, eps=1e-05)\n",
      "          )\n",
      "          (conv3): Conv2d(\n",
      "            1024, 1024, kernel_size=(1, 1), stride=(1, 1), bias=False\n",
      "            (norm): FrozenBatchNorm2d(num_features=1024, eps=1e-05)\n",
      "          )\n",
      "        )\n",
      "        (12): BottleneckBlock(\n",
      "          (conv1): Conv2d(\n",
      "            1024, 1024, kernel_size=(1, 1), stride=(1, 1), bias=False\n",
      "            (norm): FrozenBatchNorm2d(num_features=1024, eps=1e-05)\n",
      "          )\n",
      "          (conv2): Conv2d(\n",
      "            1024, 1024, kernel_size=(3, 3), stride=(1, 1), padding=(1, 1), groups=32, bias=False\n",
      "            (norm): FrozenBatchNorm2d(num_features=1024, eps=1e-05)\n",
      "          )\n",
      "          (conv3): Conv2d(\n",
      "            1024, 1024, kernel_size=(1, 1), stride=(1, 1), bias=False\n",
      "            (norm): FrozenBatchNorm2d(num_features=1024, eps=1e-05)\n",
      "          )\n",
      "        )\n",
      "        (13): BottleneckBlock(\n",
      "          (conv1): Conv2d(\n",
      "            1024, 1024, kernel_size=(1, 1), stride=(1, 1), bias=False\n",
      "            (norm): FrozenBatchNorm2d(num_features=1024, eps=1e-05)\n",
      "          )\n",
      "          (conv2): Conv2d(\n",
      "            1024, 1024, kernel_size=(3, 3), stride=(1, 1), padding=(1, 1), groups=32, bias=False\n",
      "            (norm): FrozenBatchNorm2d(num_features=1024, eps=1e-05)\n",
      "          )\n",
      "          (conv3): Conv2d(\n",
      "            1024, 1024, kernel_size=(1, 1), stride=(1, 1), bias=False\n",
      "            (norm): FrozenBatchNorm2d(num_features=1024, eps=1e-05)\n",
      "          )\n",
      "        )\n",
      "        (14): BottleneckBlock(\n",
      "          (conv1): Conv2d(\n",
      "            1024, 1024, kernel_size=(1, 1), stride=(1, 1), bias=False\n",
      "            (norm): FrozenBatchNorm2d(num_features=1024, eps=1e-05)\n",
      "          )\n",
      "          (conv2): Conv2d(\n",
      "            1024, 1024, kernel_size=(3, 3), stride=(1, 1), padding=(1, 1), groups=32, bias=False\n",
      "            (norm): FrozenBatchNorm2d(num_features=1024, eps=1e-05)\n",
      "          )\n",
      "          (conv3): Conv2d(\n",
      "            1024, 1024, kernel_size=(1, 1), stride=(1, 1), bias=False\n",
      "            (norm): FrozenBatchNorm2d(num_features=1024, eps=1e-05)\n",
      "          )\n",
      "        )\n",
      "        (15): BottleneckBlock(\n",
      "          (conv1): Conv2d(\n",
      "            1024, 1024, kernel_size=(1, 1), stride=(1, 1), bias=False\n",
      "            (norm): FrozenBatchNorm2d(num_features=1024, eps=1e-05)\n",
      "          )\n",
      "          (conv2): Conv2d(\n",
      "            1024, 1024, kernel_size=(3, 3), stride=(1, 1), padding=(1, 1), groups=32, bias=False\n",
      "            (norm): FrozenBatchNorm2d(num_features=1024, eps=1e-05)\n",
      "          )\n",
      "          (conv3): Conv2d(\n",
      "            1024, 1024, kernel_size=(1, 1), stride=(1, 1), bias=False\n",
      "            (norm): FrozenBatchNorm2d(num_features=1024, eps=1e-05)\n",
      "          )\n",
      "        )\n",
      "        (16): BottleneckBlock(\n",
      "          (conv1): Conv2d(\n",
      "            1024, 1024, kernel_size=(1, 1), stride=(1, 1), bias=False\n",
      "            (norm): FrozenBatchNorm2d(num_features=1024, eps=1e-05)\n",
      "          )\n",
      "          (conv2): Conv2d(\n",
      "            1024, 1024, kernel_size=(3, 3), stride=(1, 1), padding=(1, 1), groups=32, bias=False\n",
      "            (norm): FrozenBatchNorm2d(num_features=1024, eps=1e-05)\n",
      "          )\n",
      "          (conv3): Conv2d(\n",
      "            1024, 1024, kernel_size=(1, 1), stride=(1, 1), bias=False\n",
      "            (norm): FrozenBatchNorm2d(num_features=1024, eps=1e-05)\n",
      "          )\n",
      "        )\n",
      "        (17): BottleneckBlock(\n",
      "          (conv1): Conv2d(\n",
      "            1024, 1024, kernel_size=(1, 1), stride=(1, 1), bias=False\n",
      "            (norm): FrozenBatchNorm2d(num_features=1024, eps=1e-05)\n",
      "          )\n",
      "          (conv2): Conv2d(\n",
      "            1024, 1024, kernel_size=(3, 3), stride=(1, 1), padding=(1, 1), groups=32, bias=False\n",
      "            (norm): FrozenBatchNorm2d(num_features=1024, eps=1e-05)\n",
      "          )\n",
      "          (conv3): Conv2d(\n",
      "            1024, 1024, kernel_size=(1, 1), stride=(1, 1), bias=False\n",
      "            (norm): FrozenBatchNorm2d(num_features=1024, eps=1e-05)\n",
      "          )\n",
      "        )\n",
      "        (18): BottleneckBlock(\n",
      "          (conv1): Conv2d(\n",
      "            1024, 1024, kernel_size=(1, 1), stride=(1, 1), bias=False\n",
      "            (norm): FrozenBatchNorm2d(num_features=1024, eps=1e-05)\n",
      "          )\n",
      "          (conv2): Conv2d(\n",
      "            1024, 1024, kernel_size=(3, 3), stride=(1, 1), padding=(1, 1), groups=32, bias=False\n",
      "            (norm): FrozenBatchNorm2d(num_features=1024, eps=1e-05)\n",
      "          )\n",
      "          (conv3): Conv2d(\n",
      "            1024, 1024, kernel_size=(1, 1), stride=(1, 1), bias=False\n",
      "            (norm): FrozenBatchNorm2d(num_features=1024, eps=1e-05)\n",
      "          )\n",
      "        )\n",
      "        (19): BottleneckBlock(\n",
      "          (conv1): Conv2d(\n",
      "            1024, 1024, kernel_size=(1, 1), stride=(1, 1), bias=False\n",
      "            (norm): FrozenBatchNorm2d(num_features=1024, eps=1e-05)\n",
      "          )\n",
      "          (conv2): Conv2d(\n",
      "            1024, 1024, kernel_size=(3, 3), stride=(1, 1), padding=(1, 1), groups=32, bias=False\n",
      "            (norm): FrozenBatchNorm2d(num_features=1024, eps=1e-05)\n",
      "          )\n",
      "          (conv3): Conv2d(\n",
      "            1024, 1024, kernel_size=(1, 1), stride=(1, 1), bias=False\n",
      "            (norm): FrozenBatchNorm2d(num_features=1024, eps=1e-05)\n",
      "          )\n",
      "        )\n",
      "        (20): BottleneckBlock(\n",
      "          (conv1): Conv2d(\n",
      "            1024, 1024, kernel_size=(1, 1), stride=(1, 1), bias=False\n",
      "            (norm): FrozenBatchNorm2d(num_features=1024, eps=1e-05)\n",
      "          )\n",
      "          (conv2): Conv2d(\n",
      "            1024, 1024, kernel_size=(3, 3), stride=(1, 1), padding=(1, 1), groups=32, bias=False\n",
      "            (norm): FrozenBatchNorm2d(num_features=1024, eps=1e-05)\n",
      "          )\n",
      "          (conv3): Conv2d(\n",
      "            1024, 1024, kernel_size=(1, 1), stride=(1, 1), bias=False\n",
      "            (norm): FrozenBatchNorm2d(num_features=1024, eps=1e-05)\n",
      "          )\n",
      "        )\n",
      "        (21): BottleneckBlock(\n",
      "          (conv1): Conv2d(\n",
      "            1024, 1024, kernel_size=(1, 1), stride=(1, 1), bias=False\n",
      "            (norm): FrozenBatchNorm2d(num_features=1024, eps=1e-05)\n",
      "          )\n",
      "          (conv2): Conv2d(\n",
      "            1024, 1024, kernel_size=(3, 3), stride=(1, 1), padding=(1, 1), groups=32, bias=False\n",
      "            (norm): FrozenBatchNorm2d(num_features=1024, eps=1e-05)\n",
      "          )\n",
      "          (conv3): Conv2d(\n",
      "            1024, 1024, kernel_size=(1, 1), stride=(1, 1), bias=False\n",
      "            (norm): FrozenBatchNorm2d(num_features=1024, eps=1e-05)\n",
      "          )\n",
      "        )\n",
      "        (22): BottleneckBlock(\n",
      "          (conv1): Conv2d(\n",
      "            1024, 1024, kernel_size=(1, 1), stride=(1, 1), bias=False\n",
      "            (norm): FrozenBatchNorm2d(num_features=1024, eps=1e-05)\n",
      "          )\n",
      "          (conv2): Conv2d(\n",
      "            1024, 1024, kernel_size=(3, 3), stride=(1, 1), padding=(1, 1), groups=32, bias=False\n",
      "            (norm): FrozenBatchNorm2d(num_features=1024, eps=1e-05)\n",
      "          )\n",
      "          (conv3): Conv2d(\n",
      "            1024, 1024, kernel_size=(1, 1), stride=(1, 1), bias=False\n",
      "            (norm): FrozenBatchNorm2d(num_features=1024, eps=1e-05)\n",
      "          )\n",
      "        )\n",
      "      )\n",
      "      (res5): Sequential(\n",
      "        (0): BottleneckBlock(\n",
      "          (shortcut): Conv2d(\n",
      "            1024, 2048, kernel_size=(1, 1), stride=(2, 2), bias=False\n",
      "            (norm): FrozenBatchNorm2d(num_features=2048, eps=1e-05)\n",
      "          )\n",
      "          (conv1): Conv2d(\n",
      "            1024, 2048, kernel_size=(1, 1), stride=(1, 1), bias=False\n",
      "            (norm): FrozenBatchNorm2d(num_features=2048, eps=1e-05)\n",
      "          )\n",
      "          (conv2): Conv2d(\n",
      "            2048, 2048, kernel_size=(3, 3), stride=(2, 2), padding=(1, 1), groups=32, bias=False\n",
      "            (norm): FrozenBatchNorm2d(num_features=2048, eps=1e-05)\n",
      "          )\n",
      "          (conv3): Conv2d(\n",
      "            2048, 2048, kernel_size=(1, 1), stride=(1, 1), bias=False\n",
      "            (norm): FrozenBatchNorm2d(num_features=2048, eps=1e-05)\n",
      "          )\n",
      "        )\n",
      "        (1): BottleneckBlock(\n",
      "          (conv1): Conv2d(\n",
      "            2048, 2048, kernel_size=(1, 1), stride=(1, 1), bias=False\n",
      "            (norm): FrozenBatchNorm2d(num_features=2048, eps=1e-05)\n",
      "          )\n",
      "          (conv2): Conv2d(\n",
      "            2048, 2048, kernel_size=(3, 3), stride=(1, 1), padding=(1, 1), groups=32, bias=False\n",
      "            (norm): FrozenBatchNorm2d(num_features=2048, eps=1e-05)\n",
      "          )\n",
      "          (conv3): Conv2d(\n",
      "            2048, 2048, kernel_size=(1, 1), stride=(1, 1), bias=False\n",
      "            (norm): FrozenBatchNorm2d(num_features=2048, eps=1e-05)\n",
      "          )\n",
      "        )\n",
      "        (2): BottleneckBlock(\n",
      "          (conv1): Conv2d(\n",
      "            2048, 2048, kernel_size=(1, 1), stride=(1, 1), bias=False\n",
      "            (norm): FrozenBatchNorm2d(num_features=2048, eps=1e-05)\n",
      "          )\n",
      "          (conv2): Conv2d(\n",
      "            2048, 2048, kernel_size=(3, 3), stride=(1, 1), padding=(1, 1), groups=32, bias=False\n",
      "            (norm): FrozenBatchNorm2d(num_features=2048, eps=1e-05)\n",
      "          )\n",
      "          (conv3): Conv2d(\n",
      "            2048, 2048, kernel_size=(1, 1), stride=(1, 1), bias=False\n",
      "            (norm): FrozenBatchNorm2d(num_features=2048, eps=1e-05)\n",
      "          )\n",
      "        )\n",
      "      )\n",
      "    )\n",
      "  )\n",
      "  (proposal_generator): RPN(\n",
      "    (rpn_head): StandardRPNHead(\n",
      "      (conv): Conv2d(\n",
      "        256, 256, kernel_size=(3, 3), stride=(1, 1), padding=(1, 1)\n",
      "        (activation): ReLU()\n",
      "      )\n",
      "      (objectness_logits): Conv2d(256, 3, kernel_size=(1, 1), stride=(1, 1))\n",
      "      (anchor_deltas): Conv2d(256, 12, kernel_size=(1, 1), stride=(1, 1))\n",
      "    )\n",
      "    (anchor_generator): DefaultAnchorGenerator(\n",
      "      (cell_anchors): BufferList()\n",
      "    )\n",
      "  )\n",
      "  (roi_heads): StandardROIHeads(\n",
      "    (box_pooler): ROIPooler(\n",
      "      (level_poolers): ModuleList(\n",
      "        (0): ROIAlign(output_size=(7, 7), spatial_scale=0.25, sampling_ratio=0, aligned=True)\n",
      "        (1): ROIAlign(output_size=(7, 7), spatial_scale=0.125, sampling_ratio=0, aligned=True)\n",
      "        (2): ROIAlign(output_size=(7, 7), spatial_scale=0.0625, sampling_ratio=0, aligned=True)\n",
      "        (3): ROIAlign(output_size=(7, 7), spatial_scale=0.03125, sampling_ratio=0, aligned=True)\n",
      "      )\n",
      "    )\n",
      "    (box_head): FastRCNNConvFCHead(\n",
      "      (flatten): Flatten(start_dim=1, end_dim=-1)\n",
      "      (fc1): Linear(in_features=12544, out_features=1024, bias=True)\n",
      "      (fc_relu1): ReLU()\n",
      "      (fc2): Linear(in_features=1024, out_features=1024, bias=True)\n",
      "      (fc_relu2): ReLU()\n",
      "    )\n",
      "    (box_predictor): FastRCNNOutputLayers(\n",
      "      (cls_score): Linear(in_features=1024, out_features=3, bias=True)\n",
      "      (bbox_pred): Linear(in_features=1024, out_features=8, bias=True)\n",
      "    )\n",
      "  )\n",
      ")\n",
      "\u001b[32m[04/26 00:32:52 d2.data.datasets.coco]: \u001b[0mLoaded 878 images in COCO format from braintumors_coco/train/_annotations.coco.json\n",
      "\u001b[32m[04/26 00:32:52 d2.data.build]: \u001b[0mRemoved 0 images with no usable annotations. 878 images left.\n",
      "\u001b[32m[04/26 00:32:52 d2.data.dataset_mapper]: \u001b[0m[DatasetMapper] Augmentations used in training: [ResizeShortestEdge(short_edge_length=(640, 672, 704, 736, 768, 800), max_size=1333, sample_style='choice'), RandomFlip()]\n",
      "\u001b[32m[04/26 00:32:52 d2.data.build]: \u001b[0mUsing training sampler TrainingSampler\n",
      "\u001b[32m[04/26 00:32:52 d2.data.common]: \u001b[0mSerializing the dataset using: <class 'detectron2.data.common._TorchSerializedList'>\n",
      "\u001b[32m[04/26 00:32:52 d2.data.common]: \u001b[0mSerializing 878 elements to byte tensors and concatenating them all ...\n",
      "\u001b[32m[04/26 00:32:52 d2.data.common]: \u001b[0mSerialized dataset takes 0.22 MiB\n",
      "\u001b[5m\u001b[31mWARNING\u001b[0m \u001b[32m[04/26 00:32:52 d2.solver.build]: \u001b[0mSOLVER.STEPS contains values larger than SOLVER.MAX_ITER. These values will be ignored.\n"
     ]
    }
   ],
   "source": [
    "from detectron2.engine import DefaultTrainer\n",
    "trainer = DefaultTrainer(cfg)"
   ]
  },
  {
   "cell_type": "markdown",
   "metadata": {},
   "source": [
    "# Preprocessing Input images "
   ]
  },
  {
   "cell_type": "code",
   "execution_count": 10,
   "metadata": {},
   "outputs": [
    {
     "name": "stdout",
     "output_type": "stream",
     "text": [
      "MIN_SIZE_TRAIN (640, 672, 704, 736, 768, 800)\n",
      "MAX_SIZE_TRAIN 1333\n"
     ]
    }
   ],
   "source": [
    "print(\"MIN_SIZE_TRAIN\",cfg.INPUT.MIN_SIZE_TRAIN)\n",
    "print(\"MAX_SIZE_TRAIN\",cfg.INPUT.MAX_SIZE_TRAIN)"
   ]
  },
  {
   "attachments": {},
   "cell_type": "markdown",
   "metadata": {},
   "source": [
    "- The ResizeShortestEdge method uses these hyperparameters to resize input images.Precisley, it resizes shorter edges to one random value selected from MIN_SIZE_TRAIN as long as the longer edges are smaller than MAX_SIZE_TRAIN. \n",
    "- otherwise,it continues to resize the longer edges to MAX_SIZE_TEAIN\n",
    "- while resizing, the image aspect ratio remains the same,The following code samples for one training batch and displays the sizes of the sampled/transformed images "
   ]
  },
  {
   "cell_type": "code",
   "execution_count": 11,
   "metadata": {},
   "outputs": [
    {
     "name": "stdout",
     "output_type": "stream",
     "text": [
      "torch.Size([3, 800, 800])\n",
      "torch.Size([3, 800, 800])\n",
      "torch.Size([3, 1024, 768])\n",
      "torch.Size([3, 768, 768])\n",
      "torch.Size([3, 736, 736])\n",
      "torch.Size([3, 704, 704])\n"
     ]
    }
   ],
   "source": [
    "trainer._data_loader_iter = iter(trainer.data_loader)\n",
    "data = next(trainer._data_loader_iter)\n",
    "for i in data:\n",
    "    print(i[\"image\"].shape)"
   ]
  },
  {
   "cell_type": "code",
   "execution_count": 12,
   "metadata": {},
   "outputs": [
    {
     "name": "stdout",
     "output_type": "stream",
     "text": [
      "torch.Size([6, 3, 1024, 800])\n"
     ]
    }
   ],
   "source": [
    "# all these scaled images still have different sizes. Detectron2 performs some more preprocessing \n",
    "images = trainer.model.preprocess_image(data)\n",
    "print(images.tensor.shape)"
   ]
  },
  {
   "cell_type": "code",
   "execution_count": 13,
   "metadata": {},
   "outputs": [
    {
     "data": {
      "image/png": "[encoded data removed]",
      "text/plain": [
       "<Figure size 500x640 with 1 Axes>"
      ]
     },
     "metadata": {},
     "output_type": "display_data"
    },
    {
     "data": {
      "image/png": "[encoded data removed]",
      "text/plain": [
       "<Figure size 500x640 with 1 Axes>"
      ]
     },
     "metadata": {},
     "output_type": "display_data"
    },
    {
     "data": {
      "image/png": "[encoded data removed]",
      "text/plain": [
       "<Figure size 500x640 with 1 Axes>"
      ]
     },
     "metadata": {},
     "output_type": "display_data"
    }
   ],
   "source": [
    "import cv2\n",
    "import numpy as np \n",
    "import matplotlib.pyplot as plt \n",
    "from detectron2.utils.visualizer import Visualizer\n",
    "\n",
    "for i,item in enumerate(images.tensor[:3]):\n",
    "    img = np.moveaxis(item.to(\"cpu\").numpy(),0,-1)\n",
    "    pixel_mean= cfg.MODEL.PIXEL_MEAN\n",
    "    pixel_std = cfg.MODEL.PIXEL_STD\n",
    "    img = (img*pixel_std) + pixel_mean\n",
    "    v = Visualizer(img,metadata={},scale=0.5)\n",
    "    v = v.overlay_instances(boxes=data[i][\"instances\"].get(\"gt_boxes\"))\n",
    "    dpi = 80\n",
    "    im_data = v.get_image()[:,:,::-1]\n",
    "    height,width,depth = im_data.shape\n",
    "    figsize = width/float(dpi),height/float(dpi)\n",
    "    fig = plt.figure(figsize=figsize)\n",
    "    plt.imshow(im_data)\n",
    "    plt.imshow(im_data)\n",
    "    plt.axis(\"off\")\n",
    "    plt.show()\n",
    "    "
   ]
  },
  {
   "attachments": {},
   "cell_type": "markdown",
   "metadata": {},
   "source": [
    "- Examples of preprocessed images and labels before feeding to the backbone \n",
    "- smaller images in a batch are padded to have the maximum size, and all images have the same size.\n",
    "- Bouding boxes are also scaled accordingly \n",
    "## Sample images\n",
    "After understanding how Detectron2 preprocesses input images and ground-truth boxes,we can now sample for several iterations,get the ground-truth bounding boxes from this set,and analyze them to get the right sizes and ratios for training "
   ]
  },
  {
   "cell_type": "code",
   "execution_count": 14,
   "metadata": {},
   "outputs": [
    {
     "name": "stderr",
     "output_type": "stream",
     "text": [
      "100%|██████████| 1000/1000 [01:25<00:00, 11.74it/s]"
     ]
    },
    {
     "name": "stdout",
     "output_type": "stream",
     "text": [
      "\n",
      "torch.Size([6319, 4])\n"
     ]
    },
    {
     "name": "stderr",
     "output_type": "stream",
     "text": [
      "\n"
     ]
    }
   ],
   "source": [
    "from tqdm import tqdm\n",
    "import torch\n",
    "def get_gt_boxes_bacth(data):\n",
    "    gt_boxes =[item['instances'].get('gt_boxes').tensor for item in data ]\n",
    "    return torch.concat(gt_boxes)\n",
    "def get_gt_boxes(trainer,iterations):\n",
    "    trainer._data_loader_iter = iter(trainer.data_loader)\n",
    "    gt_boxes = [get_gt_boxes_bacth(next(trainer._data_loader_iter)) for _ in tqdm(range(iterations))]\n",
    "    return torch.concatenate(gt_boxes)\n",
    "gt_boxes = get_gt_boxes(trainer,1000)\n",
    "print()\n",
    "print(gt_boxes.shape)\n",
    "    \n",
    "    "
   ]
  },
  {
   "attachments": {},
   "cell_type": "markdown",
   "metadata": {},
   "source": [
    "- This code snippet should give us a tensor of bounding boxes. Each bounding box is in the format (x1,y1,x2,y2) for the top-left and lower-right corners of the bounding box while analyzing the anchors and the bounding boxes,we use width and height information rather than minimum and maximum coordinates. \n",
    "- The following code snippet converts the coordinates into width and height coorespondingly and quickly looks at their minimum and maximum edge sizes"
   ]
  },
  {
   "cell_type": "code",
   "execution_count": 15,
   "metadata": {},
   "outputs": [
    {
     "name": "stdout",
     "output_type": "stream",
     "text": [
      "tensor(22.3098) tensor(299.3030)\n"
     ]
    }
   ],
   "source": [
    "def boxes2wh(boxes):\n",
    "    x1y1 = boxes[:,:2]\n",
    "    x2y2 = boxes[:,2:]\n",
    "    \n",
    "    return x2y2 - x1y1\n",
    "gt_wh = boxes2wh(gt_boxes)\n",
    "print(gt_wh.min(),gt_wh.max()) #! minimum and maximum edge sizes of all the ground-truth boxes "
   ]
  },
  {
   "cell_type": "code",
   "execution_count": 16,
   "metadata": {},
   "outputs": [
    {
     "name": "stdout",
     "output_type": "stream",
     "text": [
      "Sizes [[32], [64], [128], [256], [512]]\n",
      "ratio [[0.5, 1.0, 2.0]]\n"
     ]
    }
   ],
   "source": [
    "print(\"Sizes\",cfg.MODEL.ANCHOR_GENERATOR.SIZES)\n",
    "print(\"ratio\",cfg.MODEL.ANCHOR_GENERATOR.ASPECT_RATIOS)"
   ]
  },
  {
   "attachments": {},
   "cell_type": "markdown",
   "metadata": {},
   "source": [
    "- We use a Feature Pyramid Network (FPN) as the backbone,so the anchor sizes are for different layers.\n",
    "That explains the second dimension for the array of anchor sizes. if we don't use FPN, the size should look like [32,64,128,256,512] instead. \n",
    "- The following code snippets uses Detectron2's Default anchor generator to generate a set of anchors from the previous set of sizes and ratios and converts them into widths and heights correspondingly:"
   ]
  },
  {
   "cell_type": "code",
   "execution_count": 17,
   "metadata": {},
   "outputs": [],
   "source": [
    "generate_anchors = trainer.model.proposal_generator.anchor_generator.generate_cell_anchors\n",
    "anchors = generate_anchors()\n",
    "ac_wh = boxes2wh(anchors)"
   ]
  },
  {
   "attachments": {},
   "cell_type": "markdown",
   "metadata": {},
   "source": [
    "after having the ground-truth boxes and methods to generate anchors,we are ready to analyze the training bounding boxes and propose a set of initial sizes and ratios that better fit the training data \n",
    "# Generating sizes and ratios hyperparameters \n",
    "The ground-truth boxes and anchors are currently in the width and height format, while we need to\n",
    "analyze them in sizes and ratios. Therefore, the following code snippet creates two methods and uses\n",
    "them to convert ground-truth widths and heights into sizes and ratios:\n"
   ]
  },
  {
   "cell_type": "code",
   "execution_count": 18,
   "metadata": {},
   "outputs": [],
   "source": [
    "def wh2size(wh):\n",
    "    return torch.sqrt(gt_wh[:,0]*gt_wh[:,1])\n",
    "def wh2ratio(wh):\n",
    "    return wh[:,1]/wh[:,0]\n",
    "gt_sizes = wh2size(gt_wh)\n",
    "gt_ratios = wh2ratio(gt_wh)\n"
   ]
  },
  {
   "attachments": {},
   "cell_type": "markdown",
   "metadata": {},
   "source": [
    "#### Generally, the algorithm to get the best set of sizes and ratios for training has the following steps:\n",
    "1.Quantify how well each ground-truth box matches a set of anchors (compute best ratios).\n",
    "\n",
    "2.Quantify the fitness between the set of ground-truth boxes, as a whole, and the set of anchors (compute a fitness score).\n",
    "\n",
    "3.Perform clustering algorithms on the ground-truth sizes and ratios and get the initializations for these two sets of parameters.\n",
    "\n",
    "4.Use a genetic algorithm to randomly evolve and get a good set of sizes and ratios for the training process."
   ]
  },
  {
   "attachments": {},
   "cell_type": "markdown",
   "metadata": {},
   "source": [
    "## Compute the best ratios \n",
    "For each ground-truth bounding box, there must be a method to quantify how well it can fit with\n",
    "the set of given anchors. We divide the width and height of the ground-truth box by each anchor’s\n",
    "width and height and take the inversion. Taking the inversion is necessary because these two boxes’\n",
    "differences are symmetric (two-way). For each anchor, we take the worst ratio to indicate fitness (i.e.,if there are suitable matches and bad matches, we will take the worst match as the measure of fitness).\n",
    "\n",
    "On the other hand, for each ground-truth box, we do not need all the anchors to match well, and it is\n",
    "enough to have at least one anchor that fits well with it. Therefore, we take the maximum ratio among\n",
    "the ratios generated for all anchors as a fitness ratio. This ratio is the indicator of the fitness of this\n",
    "one ground-truth box with the set of anchors"
   ]
  },
  {
   "cell_type": "code",
   "execution_count": 19,
   "metadata": {},
   "outputs": [],
   "source": [
    "def best_ratio(ac_wh,gt_wh):\n",
    "    \"\"\"\n",
    "    the function calculates all possible aspect ratios by dividing each ground truth height by each predicted width.\n",
    "    The [:,None] and [None] synatx is used to broadcast the dimensions of the two arrays so that they can be divided element-wise. \n",
    "    The result is a 2D array of shape(num_gt,num_ac)\n",
    "    \"\"\"\n",
    "    all_ratios = gt_wh[:,None]/ac_wh[None]\n",
    "    inverse_ratios = 1/all_ratios\n",
    "    # takes the element-wise minimuma and maximum -1 specifies that min/max should be taken along the last dimension(predicted boxes)\n",
    "    ratios = torch.min(all_ratios,inverse_ratios)\n",
    "    worst = ratios.min(-1).values\n",
    "    best = worst.max(-1).values\n",
    "    \n",
    "    return best"
   ]
  },
  {
   "attachments": {},
   "cell_type": "markdown",
   "metadata": {},
   "source": [
    "This function helps quantify the fitness of individual ground-truth boxes with a set of anchors and returns  a list of fitness ratios. \n",
    "## Quantify the fitness\n",
    "One approach is to take the average of all the fitness score for all the ground-truth boxes as one fitness score between a set of ground-truth boxes as  a whole,given a set of anchors. \n"
   ]
  },
  {
   "cell_type": "code",
   "execution_count": 20,
   "metadata": {},
   "outputs": [],
   "source": [
    "def fitness(ac_wh,gt_wh,EDGE_RATIO_THRESHOLD=0.25):\n",
    "    \"\"\"\n",
    "    the default threshold value is 0.25, which means that if the ratio of any side of two boxes differs by more than four times,they are considered bad matches \n",
    "    \"\"\"\n",
    "    ratio = best_ratio(ac_wh,gt_wh)\n",
    "    ret = (ratio*(ratio>EDGE_RATIO_THRESHOLD).float()).mean()    \n",
    "    return ret\n"
   ]
  },
  {
   "cell_type": "code",
   "execution_count": 21,
   "metadata": {},
   "outputs": [],
   "source": [
    "def best_recall(ac_wh,gt_wh,EDGE_RATIO_THRESHOLD=0.25):\n",
    "    ratio = best_ratio(ac_wh,gt_wh)\n",
    "    best = (ratio>EDGE_RATIO_THRESHOLD).float().mean()\n",
    "    return best "
   ]
  },
  {
   "attachments": {},
   "cell_type": "markdown",
   "metadata": {},
   "source": [
    "a ground truth box with edges that don't exceed four times or are not smaller than four times the size of at least one anchor is then recallable. "
   ]
  },
  {
   "cell_type": "code",
   "execution_count": 22,
   "metadata": {},
   "outputs": [
    {
     "name": "stdout",
     "output_type": "stream",
     "text": [
      "recall tensor(1.)\n",
      "fitness tensor(0.7831)\n"
     ]
    }
   ],
   "source": [
    "print(\"recall\",best_recall(ac_wh,gt_wh))\n",
    "print(\"fitness\",fitness(ac_wh,gt_wh))"
   ]
  },
  {
   "attachments": {},
   "cell_type": "markdown",
   "metadata": {},
   "source": [
    "These results indicate that this default set of hyperparameters is relatively good for this case,However it's possible to use a genetic algorithm to improve fitness. \n",
    "### Using clustering algorithms "
   ]
  },
  {
   "cell_type": "code",
   "execution_count": 23,
   "metadata": {},
   "outputs": [],
   "source": [
    "import numpy as np \n",
    "from scipy.cluster.vq import kmeans\n",
    "def estimate_clusters(values,num_clusters,iter=100):\n",
    "    std = values.std(0).item()\n",
    "    k,_ = kmeans(values/std,num_clusters,iter=iter)\n",
    "    k *=std\n",
    "    return k\n",
    "def visualize_clusters(values,centers):\n",
    "    plt.hist(values,histtype=\"step\")\n",
    "    plt.scatter(centers,[0]*len(centers),c=\"red\")\n",
    "    plt.show()"
   ]
  },
  {
   "cell_type": "code",
   "execution_count": 24,
   "metadata": {},
   "outputs": [
    {
     "data": {
      "image/png": "[encoded data removed]",
      "text/plain": [
       "<Figure size 640x480 with 1 Axes>"
      ]
     },
     "metadata": {},
     "output_type": "display_data"
    },
    {
     "data": {
      "image/png": "[encoded data removed]",
      "text/plain": [
       "<Figure size 640x480 with 1 Axes>"
      ]
     },
     "metadata": {},
     "output_type": "display_data"
    }
   ],
   "source": [
    "sizes = estimate_clusters(gt_sizes,5)\n",
    "visualize_clusters(gt_sizes,sizes)\n",
    "ratios = estimate_clusters(gt_ratios,3)\n",
    "visualize_clusters(gt_ratios,ratios)\n"
   ]
  },
  {
   "attachments": {},
   "cell_type": "markdown",
   "metadata": {},
   "source": [
    "Most sizes are 100 pixels, and the ratios are more toward 1.0 because most boxes are square. \n"
   ]
  },
  {
   "cell_type": "code",
   "execution_count": 25,
   "metadata": {},
   "outputs": [
    {
     "data": {
      "text/plain": [
       "tensor(0.8784, dtype=torch.float64)"
      ]
     },
     "execution_count": 25,
     "metadata": {},
     "output_type": "execute_result"
    }
   ],
   "source": [
    "fitness(boxes2wh(generate_anchors(sizes,ratios)),gt_wh)"
   ]
  },
  {
   "attachments": {},
   "cell_type": "markdown",
   "metadata": {},
   "source": [
    "This score is a much better fit than the default anchor set we can improve it with genetic algorithm\n",
    "## Evlovle the results using the genetic algorithm \n",
    "1. start with the initial sizes and ratios generated by the clustering algorithms \n",
    "2. sample some items to evolve based on a given probability (eg. 0.9 have an item evolve 90% of the time)\n",
    "3. sample some random evolving amounts from a normal distribution  with a given mean and standard deviation \n",
    "4. Change the sizes and ratios using the generated random amounts\n",
    "5. compute a fitness score using the new sets of sizes and ratios \n",
    "6. If the fitness improves, set the initial set of sizes and ratios to these current sets and loop back to step 1 otherwise,proceed to step 2 "
   ]
  },
  {
   "cell_type": "code",
   "execution_count": 26,
   "metadata": {},
   "outputs": [],
   "source": [
    "def evolve(sizes,ratios,gt_wh,iterations=10000,probability=0.9,muy=1,sigma=0.05,fit_fn=fitness,verbose=False):\n",
    "    anchors = generate_anchors(tuple(sizes),tuple(ratios))\n",
    "    ac_wh = boxes2wh(anchors)\n",
    "    best_fit = fit_fn(ac_wh,gt_wh)\n",
    "    anchor_shape = len(sizes) + len(ratios)\n",
    "    \n",
    "    pbar = tqdm(range(iterations),desc=f\"Evolving ratios and sizes:\")\n",
    "    for i, _ in enumerate(pbar):\n",
    "        #to mutate and how much \n",
    "        mutation = np.ones(anchor_shape)\n",
    "        mutate = np.random.random(anchor_shape)<probability\n",
    "        mutation = np.random.normal(muy,sigma,anchor_shape)*mutate \n",
    "        mutation = mutation.clip(0.3,3.0)\n",
    "        #mutated \n",
    "        mutated_sizes = sizes.copy()*mutation[:len(sizes)]\n",
    "        mutated_ratios = ratios.copy()*mutation[-len(ratios):]\n",
    "        mutated_anchors = generate_anchors(\n",
    "            tuple(mutated_sizes),\n",
    "            tuple(mutated_ratios)\n",
    "        )\n",
    "        mutated_ac_wh = boxes2wh(mutated_anchors)\n",
    "        mutated_fit = fit_fn(mutated_ac_wh,gt_wh)\n",
    "        \n",
    "        if mutated_fit>best_fit:\n",
    "            sizes = mutated_sizes.copy()\n",
    "            ratios = mutated_ratios.copy()\n",
    "            best_fit = mutated_fit\n",
    "            pbar.desc=(f\"Evolving ratios and sizes, Fitness = {best_fit:.4f}\")\n",
    "    return sizes,ratios"
   ]
  },
  {
   "cell_type": "code",
   "execution_count": 27,
   "metadata": {},
   "outputs": [
    {
     "name": "stderr",
     "output_type": "stream",
     "text": [
      "Evolving ratios and sizes, Fitness = 0.8845: 100%|██████████| 10000/10000 [00:24<00:00, 400.47it/s]\n"
     ]
    }
   ],
   "source": [
    "e_sizes, e_ratios = evolve(sizes, ratios, gt_wh, verbose=False)\n"
   ]
  },
  {
   "cell_type": "code",
   "execution_count": 28,
   "metadata": {},
   "outputs": [
    {
     "name": "stdout",
     "output_type": "stream",
     "text": [
      "sizes [ 86.74344385 111.15039289 144.6967493   64.91778448  43.43608345]\n",
      "ratios [0.99055315 0.78273349 1.24811079]\n"
     ]
    }
   ],
   "source": [
    "print(\"sizes\",e_sizes)\n",
    "print(\"ratios\",e_ratios)"
   ]
  },
  {
   "cell_type": "code",
   "execution_count": 29,
   "metadata": {},
   "outputs": [],
   "source": [
    "## Therefore the trainign configuration should use the following hyperparameters for sizes and ratios \n",
    "cfg.MODEL.ANCHOR_GENERATOR.SIZES = [e_sizes[0],e_sizes[1],e_sizes[2],e_sizes[3]]\n",
    "cfg.MODEL.ANCHOR_GENERATOR.ASPECT_RATIOS = [ e_ratios[0],e_ratios[1],e_ratios[2]]"
   ]
  },
  {
   "attachments": {},
   "cell_type": "markdown",
   "metadata": {},
   "source": [
    "## Settnig pixel means and standard deviations \n",
    "Input image pixel's and standard deviations are crucial in traingin Detectron2 Models,\n",
    "he uses these valeus to normalize the input images,\n",
    "The common values for these two hyperparameters generated from the ImageNet dataset are [103.53,116.28,123.675] and\n",
    "[57.375,57.120,58.395]. \n",
    "These values are appropariate for  most of the color images. However,this specific case has grayscale images with different values for pixel mean and standard deviations.\n",
    "Therefore, producing these two sets of values from the training\n",
    "dataset would be beneficial. This task has two main stages: (1) preparing a data loader to load images and (2) creating a class to calculate running means and standard deviations.\n"
   ]
  },
  {
   "attachments": {},
   "cell_type": "markdown",
   "metadata": {},
   "source": [
    "\n",
    "# Preparing a data loader \n"
   ]
  },
  {
   "cell_type": "code",
   "execution_count": 30,
   "metadata": {},
   "outputs": [],
   "source": [
    "from tqdm import tqdm\n",
    "import torch \n",
    "from torch.utils.data import Dataset,DataLoader\n",
    "import os \n",
    "import cv2\n",
    "name_ds = \"braintumors_coco\"\n",
    "af = \"_annotations.coco.json\"\n",
    "img_dir = name_ds + \"/train/\"\n",
    "json_file_train = name_ds + \"/train/\" + af \n",
    "batch_size = 64\n",
    "num_workers= 2 "
   ]
  },
  {
   "cell_type": "code",
   "execution_count": 31,
   "metadata": {},
   "outputs": [],
   "source": [
    "class TumorDataset(Dataset):\n",
    "    def __init__(self,data,img_dir=\"\",transform=None):\n",
    "        self.data = data \n",
    "        self.img_dir = img_dir \n",
    "        self.transform = transform\n",
    "    def __len__(self):\n",
    "        return len(self.data)\n",
    "    def __getitem__(self,idx):\n",
    "        file_name = os.path.join(self.img_dir,self.data[idx][\"file_name\"])\n",
    "        image = cv2.imread(file_name)\n",
    "        if self.transform is not None:\n",
    "            image = self.transform(image=image)[\"image\"]\n",
    "        return image "
   ]
  },
  {
   "cell_type": "code",
   "execution_count": 33,
   "metadata": {},
   "outputs": [],
   "source": [
    "import albumentations as A \n",
    "from albumentations.pytorch import ToTensorV2\n",
    "\n",
    "image_size  =640\n",
    "augs = A.Compose([\n",
    "    A.Resize(height=image_size,width=image_size),\n",
    "    ToTensorV2()\n",
    "])\n"
   ]
  },
  {
   "cell_type": "code",
   "execution_count": 36,
   "metadata": {},
   "outputs": [],
   "source": [
    "import json \n",
    "with open(json_file_train) as f:\n",
    "    ds = json.load(f)['images']\n",
    "tds = TumorDataset(ds,img_dir = img_dir,transform=augs)\n",
    "image_loader = DataLoader(tds,\n",
    "                          batch_size=batch_size,\n",
    "                          shuffle=False,\n",
    "                          num_workers=num_workers,\n",
    "                          pin_memory=True)"
   ]
  },
  {
   "attachments": {},
   "cell_type": "markdown",
   "metadata": {},
   "source": [
    "## Calculate running means and standard deviations "
   ]
  },
  {
   "cell_type": "code",
   "execution_count": 37,
   "metadata": {},
   "outputs": [],
   "source": [
    "def broad_cast(x,image_size,channel):\n",
    "    y = torch.broadcast_to(x,(image_size**2,channel))\n",
    "    z = y.reshape(image_size,image_size,3)\n",
    "    return torch.moveaxis(z,2,0)"
   ]
  },
  {
   "cell_type": "code",
   "execution_count": 43,
   "metadata": {},
   "outputs": [],
   "source": [
    "\n",
    "class RunningStats:\n",
    "  def __init__(self):\n",
    "    self.n = 0\n",
    "    self.mean = 0\n",
    "    self.ssd = 0 \n",
    "    \n",
    "  def push(self, x):\n",
    "    # start\n",
    "    dims = [0, 2, 3]\n",
    "    count = 1\n",
    "    for dim in dims:\n",
    "      count *= x.shape[dim]\n",
    "    image_size = x.shape[-1]\n",
    "    channel = x.shape[1]\n",
    "    if self.n == 0:\n",
    "      # start\n",
    "      new_mean = x.sum(axis=dims)/count\n",
    "      new_ssd = ((\n",
    "          x - broad_cast(\n",
    "                new_mean, \n",
    "                image_size, \n",
    "                channel\n",
    "                ))**2).sum(axis=dims)\n",
    "      new_count = count\n",
    "    else:\n",
    "      # old\n",
    "      old_count = self.n\n",
    "      old_mean = self.mean\n",
    "      old_ssd = self.ssd\n",
    "      old_sum = old_mean * old_count      \n",
    "      # new\n",
    "      new_count = self.n + count\n",
    "      new_sum = old_sum + x.sum(axis=dims)\n",
    "      new_mean = new_sum/(self.n + count)\n",
    "      \n",
    "      old_ssd_new_mean = (\n",
    "          old_ssd  \n",
    "          + 2*old_mean*old_sum\n",
    "          - old_count*(old_mean)**2\n",
    "          - 2*new_mean*old_sum\n",
    "          + old_count*(new_mean)**2\n",
    "          )\n",
    "      \n",
    "      new_ssd = (\n",
    "          old_ssd_new_mean + \n",
    "          (\n",
    "              (x - broad_cast(new_mean, \n",
    "                           image_size, \n",
    "                           channel))**2\n",
    "           ).sum(axis=dims))\n",
    "    # release results\n",
    "    self.mean = new_mean\n",
    "    self.ssd = new_ssd\n",
    "    self.n = new_count\n",
    "    self.std = torch.sqrt(new_ssd/(new_count-1))"
   ]
  },
  {
   "cell_type": "code",
   "execution_count": 46,
   "metadata": {},
   "outputs": [
    {
     "name": "stderr",
     "output_type": "stream",
     "text": [
      "100%|██████████| 14/14 [00:10<00:00,  1.28it/s]"
     ]
    },
    {
     "name": "stdout",
     "output_type": "stream",
     "text": [
      "tensor([20.1962, 20.1962, 20.1962])\n",
      "tensor([39.5985, 39.5985, 39.5985])\n"
     ]
    },
    {
     "name": "stderr",
     "output_type": "stream",
     "text": [
      "\n"
     ]
    }
   ],
   "source": [
    "rs = RunningStats()\n",
    "for inputs in tqdm(image_loader):\n",
    "    rs.push(inputs)\n",
    "print(rs.mean)\n",
    "print(rs.std)"
   ]
  },
  {
   "cell_type": "code",
   "execution_count": null,
   "metadata": {},
   "outputs": [],
   "source": []
  }
 ],
 "metadata": {
  "kernelspec": {
   "display_name": "base",
   "language": "python",
   "name": "python3"
  },
  "language_info": {
   "codemirror_mode": {
    "name": "ipython",
    "version": 3
   },
   "file_extension": ".py",
   "mimetype": "text/x-python",
   "name": "python",
   "nbconvert_exporter": "python",
   "pygments_lexer": "ipython3",
   "version": "3.10.9"
  },
  "orig_nbformat": 4
 },
 "nbformat": 4,
 "nbformat_minor": 2
}
