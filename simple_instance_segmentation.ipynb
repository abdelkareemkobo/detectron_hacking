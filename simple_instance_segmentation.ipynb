{
 "cells": [
  {
   "cell_type": "code",
   "execution_count": 2,
   "metadata": {},
   "outputs": [
    {
     "ename": "KeyboardInterrupt",
     "evalue": "",
     "output_type": "error",
     "traceback": [
      "\u001b[0;31m---------------------------------------------------------------------------\u001b[0m",
      "\u001b[0;31mKeyboardInterrupt\u001b[0m                         Traceback (most recent call last)",
      "Cell \u001b[0;32mIn[2], line 20\u001b[0m\n\u001b[1;32m     18\u001b[0m score_thresh_test \u001b[39m=\u001b[39m \u001b[39m0.95\u001b[39m\n\u001b[1;32m     19\u001b[0m cfg\u001b[39m.\u001b[39mMODEL\u001b[39m.\u001b[39mROI_HEADS\u001b[39m.\u001b[39mSCORE_THRESH_TEST \u001b[39m=\u001b[39m score_thresh_test\n\u001b[0;32m---> 20\u001b[0m predictor \u001b[39m=\u001b[39m DefaultPredictor(cfg)\n",
      "File \u001b[0;32m~/.local/lib/python3.10/site-packages/detectron2/engine/defaults.py:282\u001b[0m, in \u001b[0;36mDefaultPredictor.__init__\u001b[0;34m(self, cfg)\u001b[0m\n\u001b[1;32m    280\u001b[0m \u001b[39mdef\u001b[39;00m \u001b[39m__init__\u001b[39m(\u001b[39mself\u001b[39m, cfg):\n\u001b[1;32m    281\u001b[0m     \u001b[39mself\u001b[39m\u001b[39m.\u001b[39mcfg \u001b[39m=\u001b[39m cfg\u001b[39m.\u001b[39mclone()  \u001b[39m# cfg can be modified by model\u001b[39;00m\n\u001b[0;32m--> 282\u001b[0m     \u001b[39mself\u001b[39m\u001b[39m.\u001b[39mmodel \u001b[39m=\u001b[39m build_model(\u001b[39mself\u001b[39;49m\u001b[39m.\u001b[39;49mcfg)\n\u001b[1;32m    283\u001b[0m     \u001b[39mself\u001b[39m\u001b[39m.\u001b[39mmodel\u001b[39m.\u001b[39meval()\n\u001b[1;32m    284\u001b[0m     \u001b[39mif\u001b[39;00m \u001b[39mlen\u001b[39m(cfg\u001b[39m.\u001b[39mDATASETS\u001b[39m.\u001b[39mTEST):\n",
      "File \u001b[0;32m~/.local/lib/python3.10/site-packages/detectron2/modeling/meta_arch/build.py:22\u001b[0m, in \u001b[0;36mbuild_model\u001b[0;34m(cfg)\u001b[0m\n\u001b[1;32m     17\u001b[0m \u001b[39m\u001b[39m\u001b[39m\"\"\"\u001b[39;00m\n\u001b[1;32m     18\u001b[0m \u001b[39mBuild the whole model architecture, defined by ``cfg.MODEL.META_ARCHITECTURE``.\u001b[39;00m\n\u001b[1;32m     19\u001b[0m \u001b[39mNote that it does not load any weights from ``cfg``.\u001b[39;00m\n\u001b[1;32m     20\u001b[0m \u001b[39m\"\"\"\u001b[39;00m\n\u001b[1;32m     21\u001b[0m meta_arch \u001b[39m=\u001b[39m cfg\u001b[39m.\u001b[39mMODEL\u001b[39m.\u001b[39mMETA_ARCHITECTURE\n\u001b[0;32m---> 22\u001b[0m model \u001b[39m=\u001b[39m META_ARCH_REGISTRY\u001b[39m.\u001b[39;49mget(meta_arch)(cfg)\n\u001b[1;32m     23\u001b[0m model\u001b[39m.\u001b[39mto(torch\u001b[39m.\u001b[39mdevice(cfg\u001b[39m.\u001b[39mMODEL\u001b[39m.\u001b[39mDEVICE))\n\u001b[1;32m     24\u001b[0m _log_api_usage(\u001b[39m\"\u001b[39m\u001b[39mmodeling.meta_arch.\u001b[39m\u001b[39m\"\u001b[39m \u001b[39m+\u001b[39m meta_arch)\n",
      "File \u001b[0;32m~/.local/lib/python3.10/site-packages/detectron2/config/config.py:189\u001b[0m, in \u001b[0;36mconfigurable.<locals>.wrapped\u001b[0;34m(self, *args, **kwargs)\u001b[0m\n\u001b[1;32m    186\u001b[0m     \u001b[39mraise\u001b[39;00m \u001b[39mTypeError\u001b[39;00m(\u001b[39m\"\u001b[39m\u001b[39mClass with @configurable must have a \u001b[39m\u001b[39m'\u001b[39m\u001b[39mfrom_config\u001b[39m\u001b[39m'\u001b[39m\u001b[39m classmethod.\u001b[39m\u001b[39m\"\u001b[39m)\n\u001b[1;32m    188\u001b[0m \u001b[39mif\u001b[39;00m _called_with_cfg(\u001b[39m*\u001b[39margs, \u001b[39m*\u001b[39m\u001b[39m*\u001b[39mkwargs):\n\u001b[0;32m--> 189\u001b[0m     explicit_args \u001b[39m=\u001b[39m _get_args_from_config(from_config_func, \u001b[39m*\u001b[39;49margs, \u001b[39m*\u001b[39;49m\u001b[39m*\u001b[39;49mkwargs)\n\u001b[1;32m    190\u001b[0m     init_func(\u001b[39mself\u001b[39m, \u001b[39m*\u001b[39m\u001b[39m*\u001b[39mexplicit_args)\n\u001b[1;32m    191\u001b[0m \u001b[39melse\u001b[39;00m:\n",
      "File \u001b[0;32m~/.local/lib/python3.10/site-packages/detectron2/config/config.py:245\u001b[0m, in \u001b[0;36m_get_args_from_config\u001b[0;34m(from_config_func, *args, **kwargs)\u001b[0m\n\u001b[1;32m    243\u001b[0m     \u001b[39mif\u001b[39;00m name \u001b[39mnot\u001b[39;00m \u001b[39min\u001b[39;00m supported_arg_names:\n\u001b[1;32m    244\u001b[0m         extra_kwargs[name] \u001b[39m=\u001b[39m kwargs\u001b[39m.\u001b[39mpop(name)\n\u001b[0;32m--> 245\u001b[0m ret \u001b[39m=\u001b[39m from_config_func(\u001b[39m*\u001b[39;49margs, \u001b[39m*\u001b[39;49m\u001b[39m*\u001b[39;49mkwargs)\n\u001b[1;32m    246\u001b[0m \u001b[39m# forward the other arguments to __init__\u001b[39;00m\n\u001b[1;32m    247\u001b[0m ret\u001b[39m.\u001b[39mupdate(extra_kwargs)\n",
      "File \u001b[0;32m~/.local/lib/python3.10/site-packages/detectron2/modeling/meta_arch/rcnn.py:73\u001b[0m, in \u001b[0;36mGeneralizedRCNN.from_config\u001b[0;34m(cls, cfg)\u001b[0m\n\u001b[1;32m     71\u001b[0m \u001b[39m@classmethod\u001b[39m\n\u001b[1;32m     72\u001b[0m \u001b[39mdef\u001b[39;00m \u001b[39mfrom_config\u001b[39m(\u001b[39mcls\u001b[39m, cfg):\n\u001b[0;32m---> 73\u001b[0m     backbone \u001b[39m=\u001b[39m build_backbone(cfg)\n\u001b[1;32m     74\u001b[0m     \u001b[39mreturn\u001b[39;00m {\n\u001b[1;32m     75\u001b[0m         \u001b[39m\"\u001b[39m\u001b[39mbackbone\u001b[39m\u001b[39m\"\u001b[39m: backbone,\n\u001b[1;32m     76\u001b[0m         \u001b[39m\"\u001b[39m\u001b[39mproposal_generator\u001b[39m\u001b[39m\"\u001b[39m: build_proposal_generator(cfg, backbone\u001b[39m.\u001b[39moutput_shape()),\n\u001b[0;32m   (...)\u001b[0m\n\u001b[1;32m     81\u001b[0m         \u001b[39m\"\u001b[39m\u001b[39mpixel_std\u001b[39m\u001b[39m\"\u001b[39m: cfg\u001b[39m.\u001b[39mMODEL\u001b[39m.\u001b[39mPIXEL_STD,\n\u001b[1;32m     82\u001b[0m     }\n",
      "File \u001b[0;32m~/.local/lib/python3.10/site-packages/detectron2/modeling/backbone/build.py:31\u001b[0m, in \u001b[0;36mbuild_backbone\u001b[0;34m(cfg, input_shape)\u001b[0m\n\u001b[1;32m     28\u001b[0m     input_shape \u001b[39m=\u001b[39m ShapeSpec(channels\u001b[39m=\u001b[39m\u001b[39mlen\u001b[39m(cfg\u001b[39m.\u001b[39mMODEL\u001b[39m.\u001b[39mPIXEL_MEAN))\n\u001b[1;32m     30\u001b[0m backbone_name \u001b[39m=\u001b[39m cfg\u001b[39m.\u001b[39mMODEL\u001b[39m.\u001b[39mBACKBONE\u001b[39m.\u001b[39mNAME\n\u001b[0;32m---> 31\u001b[0m backbone \u001b[39m=\u001b[39m BACKBONE_REGISTRY\u001b[39m.\u001b[39;49mget(backbone_name)(cfg, input_shape)\n\u001b[1;32m     32\u001b[0m \u001b[39massert\u001b[39;00m \u001b[39misinstance\u001b[39m(backbone, Backbone)\n\u001b[1;32m     33\u001b[0m \u001b[39mreturn\u001b[39;00m backbone\n",
      "File \u001b[0;32m~/.local/lib/python3.10/site-packages/detectron2/modeling/backbone/fpn.py:233\u001b[0m, in \u001b[0;36mbuild_resnet_fpn_backbone\u001b[0;34m(cfg, input_shape)\u001b[0m\n\u001b[1;32m    224\u001b[0m \u001b[39m@BACKBONE_REGISTRY\u001b[39m\u001b[39m.\u001b[39mregister()\n\u001b[1;32m    225\u001b[0m \u001b[39mdef\u001b[39;00m \u001b[39mbuild_resnet_fpn_backbone\u001b[39m(cfg, input_shape: ShapeSpec):\n\u001b[1;32m    226\u001b[0m \u001b[39m    \u001b[39m\u001b[39m\"\"\"\u001b[39;00m\n\u001b[1;32m    227\u001b[0m \u001b[39m    Args:\u001b[39;00m\n\u001b[1;32m    228\u001b[0m \u001b[39m        cfg: a detectron2 CfgNode\u001b[39;00m\n\u001b[0;32m   (...)\u001b[0m\n\u001b[1;32m    231\u001b[0m \u001b[39m        backbone (Backbone): backbone module, must be a subclass of :class:`Backbone`.\u001b[39;00m\n\u001b[1;32m    232\u001b[0m \u001b[39m    \"\"\"\u001b[39;00m\n\u001b[0;32m--> 233\u001b[0m     bottom_up \u001b[39m=\u001b[39m build_resnet_backbone(cfg, input_shape)\n\u001b[1;32m    234\u001b[0m     in_features \u001b[39m=\u001b[39m cfg\u001b[39m.\u001b[39mMODEL\u001b[39m.\u001b[39mFPN\u001b[39m.\u001b[39mIN_FEATURES\n\u001b[1;32m    235\u001b[0m     out_channels \u001b[39m=\u001b[39m cfg\u001b[39m.\u001b[39mMODEL\u001b[39m.\u001b[39mFPN\u001b[39m.\u001b[39mOUT_CHANNELS\n",
      "File \u001b[0;32m~/.local/lib/python3.10/site-packages/detectron2/modeling/backbone/resnet.py:689\u001b[0m, in \u001b[0;36mbuild_resnet_backbone\u001b[0;34m(cfg, input_shape)\u001b[0m\n\u001b[1;32m    687\u001b[0m     \u001b[39melse\u001b[39;00m:\n\u001b[1;32m    688\u001b[0m         stage_kargs[\u001b[39m\"\u001b[39m\u001b[39mblock_class\u001b[39m\u001b[39m\"\u001b[39m] \u001b[39m=\u001b[39m BottleneckBlock\n\u001b[0;32m--> 689\u001b[0m blocks \u001b[39m=\u001b[39m ResNet\u001b[39m.\u001b[39;49mmake_stage(\u001b[39m*\u001b[39;49m\u001b[39m*\u001b[39;49mstage_kargs)\n\u001b[1;32m    690\u001b[0m in_channels \u001b[39m=\u001b[39m out_channels\n\u001b[1;32m    691\u001b[0m out_channels \u001b[39m*\u001b[39m\u001b[39m=\u001b[39m \u001b[39m2\u001b[39m\n",
      "File \u001b[0;32m~/.local/lib/python3.10/site-packages/detectron2/modeling/backbone/resnet.py:542\u001b[0m, in \u001b[0;36mResNet.make_stage\u001b[0;34m(block_class, num_blocks, in_channels, out_channels, **kwargs)\u001b[0m\n\u001b[1;32m    538\u001b[0m         \u001b[39melse\u001b[39;00m:\n\u001b[1;32m    539\u001b[0m             curr_kwargs[k] \u001b[39m=\u001b[39m v\n\u001b[1;32m    541\u001b[0m     blocks\u001b[39m.\u001b[39mappend(\n\u001b[0;32m--> 542\u001b[0m         block_class(in_channels\u001b[39m=\u001b[39;49min_channels, out_channels\u001b[39m=\u001b[39;49mout_channels, \u001b[39m*\u001b[39;49m\u001b[39m*\u001b[39;49mcurr_kwargs)\n\u001b[1;32m    543\u001b[0m     )\n\u001b[1;32m    544\u001b[0m     in_channels \u001b[39m=\u001b[39m out_channels\n\u001b[1;32m    545\u001b[0m \u001b[39mreturn\u001b[39;00m blocks\n",
      "File \u001b[0;32m~/.local/lib/python3.10/site-packages/detectron2/modeling/backbone/resnet.py:180\u001b[0m, in \u001b[0;36mBottleneckBlock.__init__\u001b[0;34m(self, in_channels, out_channels, bottleneck_channels, stride, num_groups, norm, stride_in_1x1, dilation)\u001b[0m\n\u001b[1;32m    178\u001b[0m \u001b[39mfor\u001b[39;00m layer \u001b[39min\u001b[39;00m [\u001b[39mself\u001b[39m\u001b[39m.\u001b[39mconv1, \u001b[39mself\u001b[39m\u001b[39m.\u001b[39mconv2, \u001b[39mself\u001b[39m\u001b[39m.\u001b[39mconv3, \u001b[39mself\u001b[39m\u001b[39m.\u001b[39mshortcut]:\n\u001b[1;32m    179\u001b[0m     \u001b[39mif\u001b[39;00m layer \u001b[39mis\u001b[39;00m \u001b[39mnot\u001b[39;00m \u001b[39mNone\u001b[39;00m:  \u001b[39m# shortcut can be None\u001b[39;00m\n\u001b[0;32m--> 180\u001b[0m         weight_init\u001b[39m.\u001b[39;49mc2_msra_fill(layer)\n",
      "File \u001b[0;32m~/.local/lib/python3.10/site-packages/fvcore/nn/weight_init.py:33\u001b[0m, in \u001b[0;36mc2_msra_fill\u001b[0;34m(module)\u001b[0m\n\u001b[1;32m     25\u001b[0m \u001b[39m\u001b[39m\u001b[39m\"\"\"\u001b[39;00m\n\u001b[1;32m     26\u001b[0m \u001b[39mInitialize `module.weight` using the \"MSRAFill\" implemented in Caffe2.\u001b[39;00m\n\u001b[1;32m     27\u001b[0m \u001b[39mAlso initializes `module.bias` to 0.\u001b[39;00m\n\u001b[0;32m   (...)\u001b[0m\n\u001b[1;32m     30\u001b[0m \u001b[39m    module (torch.nn.Module): module to initialize.\u001b[39;00m\n\u001b[1;32m     31\u001b[0m \u001b[39m\"\"\"\u001b[39;00m\n\u001b[1;32m     32\u001b[0m \u001b[39m# pyre-fixme[6]: For 1st param expected `Tensor` but got `Union[Module, Tensor]`.\u001b[39;00m\n\u001b[0;32m---> 33\u001b[0m nn\u001b[39m.\u001b[39;49minit\u001b[39m.\u001b[39;49mkaiming_normal_(module\u001b[39m.\u001b[39;49mweight, mode\u001b[39m=\u001b[39;49m\u001b[39m\"\u001b[39;49m\u001b[39mfan_out\u001b[39;49m\u001b[39m\"\u001b[39;49m, nonlinearity\u001b[39m=\u001b[39;49m\u001b[39m\"\u001b[39;49m\u001b[39mrelu\u001b[39;49m\u001b[39m\"\u001b[39;49m)\n\u001b[1;32m     34\u001b[0m \u001b[39mif\u001b[39;00m module\u001b[39m.\u001b[39mbias \u001b[39mis\u001b[39;00m \u001b[39mnot\u001b[39;00m \u001b[39mNone\u001b[39;00m:\n\u001b[1;32m     35\u001b[0m     \u001b[39m# pyre-fixme[6]: Expected `Tensor` for 1st param but got `Union[nn.Module,\u001b[39;00m\n\u001b[1;32m     36\u001b[0m     \u001b[39m#  torch.Tensor]`.\u001b[39;00m\n\u001b[1;32m     37\u001b[0m     nn\u001b[39m.\u001b[39minit\u001b[39m.\u001b[39mconstant_(module\u001b[39m.\u001b[39mbias, \u001b[39m0\u001b[39m)\n",
      "File \u001b[0;32m~/mambaforge/envs/kobo/lib/python3.10/site-packages/torch/nn/init.py:451\u001b[0m, in \u001b[0;36mkaiming_normal_\u001b[0;34m(tensor, a, mode, nonlinearity)\u001b[0m\n\u001b[1;32m    449\u001b[0m std \u001b[39m=\u001b[39m gain \u001b[39m/\u001b[39m math\u001b[39m.\u001b[39msqrt(fan)\n\u001b[1;32m    450\u001b[0m \u001b[39mwith\u001b[39;00m torch\u001b[39m.\u001b[39mno_grad():\n\u001b[0;32m--> 451\u001b[0m     \u001b[39mreturn\u001b[39;00m tensor\u001b[39m.\u001b[39;49mnormal_(\u001b[39m0\u001b[39;49m, std)\n",
      "\u001b[0;31mKeyboardInterrupt\u001b[0m: "
     ]
    }
   ],
   "source": [
    "# Get a predictor \n",
    "import detectron2\n",
    "from detectron2.config import get_cfg\n",
    "from detectron2 import model_zoo\n",
    "from detectron2.engine import DefaultPredictor\n",
    "### Supress some user warnings \n",
    "import warnings\n",
    "warnings.simplefilter(action=\"ignore\",category=UserWarning)\n",
    "### Select a model \n",
    "config_file = \"COCO-InstanceSegmentation/mask_rcnn_X_101_32x8d_FPN_3x.yaml\"\n",
    "checkpoint_url = \"COCO-InstanceSegmentation/mask_rcnn_X_101_32x8d_FPN_3x.yaml\"\n",
    "# Create a configuration file \n",
    "cfg = get_cfg()\n",
    "config_file = model_zoo.get_config_file(config_file)\n",
    "cfg.merge_from_file(config_file)\n",
    "#Download weights \n",
    "cfg.MODEL.WEIGHTS = model_zoo.get_checkpoint_url(checkpoint_url)\n",
    "score_thresh_test = 0.95\n",
    "cfg.MODEL.ROI_HEADS.SCORE_THRESH_TEST = score_thresh_test\n",
    "predictor = DefaultPredictor(cfg)\n"
   ]
  },
  {
   "attachments": {},
   "cell_type": "markdown",
   "metadata": {},
   "source": [
    "# Pefrom Inference"
   ]
  },
  {
   "cell_type": "code",
   "execution_count": null,
   "metadata": {},
   "outputs": [],
   "source": [
    "import cv2 \n",
    "input_path = \"icpcfinal.jpg\"\n",
    "img = cv2.imread(input_path)\n",
    "output = predictor(img)"
   ]
  },
  {
   "cell_type": "code",
   "execution_count": null,
   "metadata": {},
   "outputs": [],
   "source": [
    "print(output)"
   ]
  },
  {
   "cell_type": "code",
   "execution_count": null,
   "metadata": {},
   "outputs": [],
   "source": [
    "import cv2 \n",
    "from detectron2.utils.visualizer import Visualizer\n",
    "from detectron2.data import MetadataCatalog\n",
    "\n",
    "metadata  = MetadataCatalog.get(cfg.DATASETS.TRAIN[0])\n",
    "#This line retrieves teh metadata for the first dataset in the configuration file(\"cfg\") Metadata includes \n",
    "# information such as class names,colors for each class, and other dataset-specific information \n",
    "v = Visualizer(img[:,:,::-1],metadata,scale=0.5)\n",
    "# we reverse the order of the color channels in the image to work with OpenCV -> from RGB to BGR \n",
    "instances = output[\"instances\"].to(\"cpu\")\n",
    "annotated_img = v.draw_instance_predictions(instances)\n",
    "\n",
    "cv2.imshow(\"Image\",annotated_img.get_image()[:,:,::-1])\n",
    "cv2.waitKey(0)\n",
    "cv2.destroyAllWindows()"
   ]
  },
  {
   "cell_type": "code",
   "execution_count": null,
   "metadata": {},
   "outputs": [],
   "source": []
  },
  {
   "cell_type": "code",
   "execution_count": null,
   "metadata": {},
   "outputs": [],
   "source": []
  },
  {
   "cell_type": "code",
   "execution_count": null,
   "metadata": {},
   "outputs": [],
   "source": []
  },
  {
   "cell_type": "code",
   "execution_count": null,
   "metadata": {},
   "outputs": [],
   "source": []
  },
  {
   "cell_type": "code",
   "execution_count": null,
   "metadata": {},
   "outputs": [],
   "source": []
  }
 ],
 "metadata": {
  "kernelspec": {
   "display_name": "kobo",
   "language": "python",
   "name": "python3"
  },
  "language_info": {
   "codemirror_mode": {
    "name": "ipython",
    "version": 3
   },
   "file_extension": ".py",
   "mimetype": "text/x-python",
   "name": "python",
   "nbconvert_exporter": "python",
   "pygments_lexer": "ipython3",
   "version": "3.10.9"
  },
  "orig_nbformat": 4
 },
 "nbformat": 4,
 "nbformat_minor": 2
}
